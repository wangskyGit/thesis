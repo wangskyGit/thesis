{
 "cells": [
  {
   "cell_type": "code",
   "execution_count": null,
   "metadata": {},
   "outputs": [],
   "source": [
    "import pandas as pd\n",
    "import numpy as np\n",
    "from tqdm import  tqdm"
   ]
  },
  {
   "cell_type": "code",
   "execution_count": null,
   "metadata": {},
   "outputs": [],
   "source": [
    "company=pd.read_excel('companyInfo.xlsx')\n",
    "RPT1=pd.read_excel('RPT_Operation.xlsx',sheet_name=1)\n",
    "RPT2=pd.read_excel('RPT_Operation1.xlsx',sheet_name=1)"
   ]
  },
  {
   "cell_type": "code",
   "execution_count": null,
   "metadata": {},
   "outputs": [],
   "source": [
    "listed_RPT_info=pd.DataFrame(columns=['cp1','cp2','relation','tradeYear'])\n",
    "k=0\n",
    "unlisted=0\n",
    "for i in tqdm(RPT1.index):\n",
    "    cp1=RPT1.loc[i,'Stkcd']\n",
    "    cp2_name=RPT1.loc[i,'Repart']\n",
    "    cp2_name= cp2_name.replace('（','(')\n",
    "    cp2_name= cp2_name.replace('）',')')\n",
    "    cp2=company.loc[[str(j) in cp2_name or cp2_name in str(j) for j in company['FullName'].values]]\n",
    "    if len(cp2)==0:\n",
    "        unlisted+=1\n",
    "        continue\n",
    "    cp2=cp2.iloc[0,2]\n",
    "    listed_RPT_info.loc[k,:]=[cp1,cp2,RPT1.loc[i,'Relation'],RPT1.loc[i,'Trddt'][0:4]]\n",
    "    k+=1"
   ]
  },
  {
   "cell_type": "code",
   "execution_count": null,
   "metadata": {},
   "outputs": [],
   "source": [
    "for i in tqdm(RPT2.index):\n",
    "    cp1=RPT2.loc[i,'Stkcd']\n",
    "    cp2_name=RPT2.loc[i,'Repart']\n",
    "    cp2_name= cp2_name.replace('（','(')\n",
    "    cp2_name= cp2_name.replace('）',')')\n",
    "    cp2=company.loc[[str(j) in cp2_name or cp2_name in str(j) for j in company['FullName'].values]]\n",
    "    if len(cp2)==0:\n",
    "        unlisted+=1\n",
    "        continue\n",
    "    cp2=cp2.iloc[0,2]\n",
    "    listed_RPT_info.loc[k,:]=[cp1,cp2,RPT2.loc[i,'Relation'],RPT2.loc[i,'Trddt'][0:4]]\n",
    "    k+=1"
   ]
  },
  {
   "cell_type": "code",
   "execution_count": null,
   "metadata": {},
   "outputs": [],
   "source": [
    "listed_RPT_info.to_csv('./listed_RPT.csv',index=False)"
   ]
  },
  {
   "cell_type": "code",
   "execution_count": null,
   "metadata": {},
   "outputs": [],
   "source": [
    "listed_RPT_info=pd.read_csv('./listed_RPT.csv')\n",
    "lisetd_comp=set(listed_RPT_info['cp1'])|set(listed_RPT_info['cp2'])"
   ]
  },
  {
   "cell_type": "code",
   "execution_count": null,
   "metadata": {},
   "outputs": [],
   "source": [
    "def f(df):\n",
    "    return df.iloc[0,:]\n",
    "def preprocess(df:pd.DataFrame,lisetd_comp,nan_threhold=0.15,have_type=True):\n",
    "    df['year']=df['Accper'].apply(lambda x:x[0:4])\n",
    "    df=df.loc[df['year']>='2000']\n",
    "    total_num=len(df)\n",
    "    na_col=df.isna().sum().apply(lambda x:x/total_num)\n",
    "    df=df[na_col.index[na_col<nan_threhold]]\n",
    "    df=df.loc[[i in lisetd_comp for i in df['Stkcd']]]\n",
    "    df=df.loc[[i[5:7]=='12' for i in df['Accper']]]\n",
    "    if have_type:\n",
    "        #df=df.loc[df['Typrep']=='A']\n",
    "        df=df.groupby(['Stkcd','year']).apply(f)\n",
    "        df.reset_index(drop=True,inplace=True)\n",
    "    return df"
   ]
  },
  {
   "cell_type": "code",
   "execution_count": null,
   "metadata": {},
   "outputs": [],
   "source": [
    "debt_ability=preprocess(debt_ability,lisetd_comp)\n",
    "develop_ability=preprocess(develop_ability,lisetd_comp)\n",
    "risk_ratio=preprocess(risk_ratio,lisetd_comp)"
   ]
  },
  {
   "cell_type": "code",
   "execution_count": null,
   "metadata": {},
   "outputs": [],
   "source": [
    "debt_ability=pd.read_excel('./偿债能力185738156/FI_T1.xlsx')\n",
    "debt_ability=preprocess(debt_ability,lisetd_comp)"
   ]
  },
  {
   "cell_type": "code",
   "execution_count": null,
   "metadata": {},
   "outputs": [],
   "source": [
    "develop_ability=pd.read_excel('./发展能力190527993/FI_T8.xlsx')\n",
    "develop_ability=preprocess(develop_ability,lisetd_comp)"
   ]
  },
  {
   "cell_type": "code",
   "execution_count": null,
   "metadata": {},
   "outputs": [],
   "source": [
    "risk_ratio=pd.read_excel('./风险水平190314961/FI_T8.xlsx')\n",
    "risk_ratio=preprocess(risk_ratio,lisetd_comp)"
   ]
  },
  {
   "cell_type": "code",
   "execution_count": null,
   "metadata": {},
   "outputs": [],
   "source": [
    "X=debt_ability.merge(develop_ability,how='outer',on=['Stkcd','year']).merge(risk_ratio,how='outer',on=['Stkcd','year'])"
   ]
  },
  {
   "cell_type": "code",
   "execution_count": null,
   "metadata": {},
   "outputs": [],
   "source": [
    "manage_ability=pd.read_excel('./经营能力185956829/FI_T4.xlsx')\n",
    "manage_ability=preprocess(manage_ability,lisetd_comp)\n"
   ]
  },
  {
   "cell_type": "code",
   "execution_count": null,
   "metadata": {},
   "outputs": [],
   "source": [
    "X=X.merge(manage_ability,how='outer',on=['Stkcd','year'])"
   ]
  },
  {
   "cell_type": "code",
   "execution_count": null,
   "metadata": {},
   "outputs": [],
   "source": [
    "stock_ratio=pd.read_excel('./每股指标190641029/FI_T9.xlsx')\n",
    "stock_ratio=preprocess(stock_ratio,lisetd_comp)\n",
    "#X=X.merge(stock_ratio,how='outer',on=['Stkcd','year'])"
   ]
  },
  {
   "cell_type": "code",
   "execution_count": null,
   "metadata": {},
   "outputs": [],
   "source": [
    "col=X.columns\n",
    "col=list(col[['Accper' not in i and 'Typrep' not in i and 'Indcd' not in i and 'Indnme' not in i  for i in col]])"
   ]
  },
  {
   "cell_type": "code",
   "execution_count": null,
   "metadata": {},
   "outputs": [],
   "source": [
    "special_ratio=pd.read_excel('./上市公司基本信息特色指标表185734588/AF_CFEATUREPROFILE.xlsx')\n",
    "special_ratio=preprocess(special_ratio,lisetd_comp)\n",
    "# X=X.merge(special_ratio,how='outer',on=['Stkcd','year'])\n",
    "# X=X.loc[X['year']>='2000']"
   ]
  },
  {
   "cell_type": "code",
   "execution_count": null,
   "metadata": {},
   "outputs": [],
   "source": [
    "cash_ratio=pd.read_excel('./现金流分析190426810/FI_T6.xlsx')\n",
    "cash_ratio=preprocess(cash_ratio,lisetd_comp)\n",
    "#X=X.merge(cash_ratio,how='outer',on=['Stkcd','year'])"
   ]
  },
  {
   "cell_type": "code",
   "execution_count": null,
   "metadata": {},
   "outputs": [],
   "source": [
    "related_value=pd.read_excel('./相对价值指标190851871/FI_T10.xlsx')\n",
    "related_value=preprocess(related_value,lisetd_comp,have_type=False)\n",
    "#X=X.merge(related_value,on=['Stkcd','year'],how='outer')"
   ]
  },
  {
   "cell_type": "code",
   "execution_count": null,
   "metadata": {},
   "outputs": [],
   "source": [
    "#profit_ability=pd.read_excel('./盈利能力190417749/FI_T5.xlsx')\n",
    "profit_ability=preprocess(profit_ability,lisetd_comp)\n",
    "#X=X.merge(profit_ability,on=['Stkcd','year'],how='outer')"
   ]
  },
  {
   "cell_type": "code",
   "execution_count": null,
   "metadata": {},
   "outputs": [],
   "source": [
    "X=debt_ability.merge(develop_ability,how='outer',on=['Stkcd','year']).merge(risk_ratio,how='outer',on=['Stkcd','year'])\n",
    "X=X.merge(manage_ability,how='outer',on=['Stkcd','year'])\n",
    "X=X.merge(stock_ratio,how='outer',on=['Stkcd','year'])\n",
    "X=X.merge(special_ratio,how='outer',on=['Stkcd','year'])\n",
    "X=X.loc[X['year']>='2000']\n",
    "X=X.merge(cash_ratio,how='outer',on=['Stkcd','year'])\n",
    "X=X.merge(related_value,on=['Stkcd','year'],how='outer')\n",
    "X=X.merge(profit_ability,on=['Stkcd','year'],how='outer')"
   ]
  },
  {
   "cell_type": "code",
   "execution_count": null,
   "metadata": {},
   "outputs": [],
   "source": [
    "year_hs=pd.read_excel('./个股换手率表（年）192917112/LIQ_TOVER_Y.xlsx')\n",
    "X['year']=X['year'].apply(lambda x: int(x))\n",
    "X=X.merge(year_hs,left_on=['Stkcd','year'],right_on=['Stkcd','Trdynt'],how='left')"
   ]
  },
  {
   "cell_type": "code",
   "execution_count": null,
   "metadata": {},
   "outputs": [],
   "source": [
    "month_hs=pd.read_excel('./个股换手率表（月）193041231/LIQ_TOVER_M.xlsx')\n",
    "month_hs['year']=month_hs['Trdmnt'].apply(lambda x:x[0:4])"
   ]
  },
  {
   "cell_type": "code",
   "execution_count": null,
   "metadata": {},
   "outputs": [],
   "source": [
    "mpnth_hs_var=month_hs.groupby(['Stkcd','year']).apply(np.var)"
   ]
  },
  {
   "cell_type": "code",
   "execution_count": null,
   "metadata": {},
   "outputs": [],
   "source": [
    "mpnth_hs_var['year']=[int(i[1]) for i in mpnth_hs_var.index.values]\n",
    "mpnth_hs_var['Stkcd']=[i[0] for i in mpnth_hs_var.index.values]\n",
    "mpnth_hs_var.reset_index(drop=True,inplace=True)"
   ]
  },
  {
   "cell_type": "code",
   "execution_count": null,
   "metadata": {},
   "outputs": [],
   "source": [
    "X=X.merge(mpnth_hs_var,on=['year','Stkcd'],how='left')"
   ]
  },
  {
   "cell_type": "code",
   "execution_count": null,
   "metadata": {},
   "outputs": [],
   "source": [
    "year_hs=pd.read_excel('./年个股回报率文件192623976/TRD_Year.xlsx')\n",
    "X['year']=X['year'].apply(lambda x: int(x))\n",
    "X=X.merge(year_hs,left_on=['Stkcd','year'],right_on=['Stkcd','Trdynt'],how='left')"
   ]
  },
  {
   "cell_type": "code",
   "execution_count": null,
   "metadata": {},
   "outputs": [],
   "source": [
    "month_pr=pd.read_excel('./月个股回报率文件192820634/TRD_Mnth.xlsx')\n",
    "month_pr['year']=month_pr['Trdmnt'].apply(lambda x:x[0:4])\n",
    "month_pr_var=month_pr.groupby(['Stkcd','year']).apply(np.var)\n",
    "month_pr_var['year']=[int(i[1]) for i in month_pr_var.index.values]\n",
    "month_pr_var['Stkcd']=[i[0] for i in month_pr_var.index.values]\n",
    "month_pr_var.reset_index(drop=True,inplace=True)\n",
    "X=X.merge(mpnth_hs_var,on=['year','Stkcd'],how='left')\n"
   ]
  },
  {
   "cell_type": "code",
   "execution_count": null,
   "metadata": {},
   "outputs": [],
   "source": [
    "col=X.columns\n",
    "col=list(col[['Accper' not in i and 'Typrep' not in i and 'Indcd' not in i and 'Indnme' not in i  for i in col]])\n",
    "X=X[col]\n",
    "X.to_csv('fiancial_features.csv',index=False)"
   ]
  },
  {
   "cell_type": "code",
   "execution_count": null,
   "metadata": {},
   "outputs": [],
   "source": [
    "listed_RPT_info=pd.read_csv('listed_RPT.csv')"
   ]
  },
  {
   "cell_type": "code",
   "execution_count": null,
   "metadata": {},
   "outputs": [],
   "source": [
    "import networkx as nx\n",
    "def graph_cal(df):\n",
    "    edges=df[['cp1','cp2']].values\n",
    "    G=nx.Graph()\n",
    "    G.add_edges_from(edges)\n",
    "    connectedArea=[]\n",
    "    size=[]\n",
    "    for g in nx.connected_components(G):\n",
    "        connectedArea.append(g)\n",
    "        size.append(len(g))\n",
    "    d={\"cc_num\":len(connectedArea),'ave_cc_size':np.mean(size),'total_size':len(df)}\n",
    "    return pd.DataFrame(d,index=[0])"
   ]
  },
  {
   "cell_type": "code",
   "execution_count": null,
   "metadata": {},
   "outputs": [],
   "source": [
    "delete_index=[]\n",
    "for i in listed_RPT_info.index:\n",
    "    if listed_RPT_info.loc[i,'cp1']==listed_RPT_info.loc[i,'cp2']:\n",
    "        delete_index.append(i)\n",
    "listed_RPT_info.drop(delete_index,inplace=True)"
   ]
  },
  {
   "cell_type": "code",
   "execution_count": null,
   "metadata": {},
   "outputs": [],
   "source": [
    "info=listed_RPT_info.groupby('tradeYear').apply(graph_cal)\n",
    "info.to_csv('rpt_statistics.csv')"
   ]
  },
  {
   "cell_type": "code",
   "execution_count": 35,
   "metadata": {},
   "outputs": [],
   "source": [
    "features=X"
   ]
  },
  {
   "cell_type": "code",
   "execution_count": 34,
   "metadata": {},
   "outputs": [],
   "source": [
    "def preprocess(df:pd.DataFrame,lisetd_comp,nan_threhold=0.15,have_type=True):\n",
    "    df['year']=df['Enddate'].apply(lambda x:int(x[0:4]))\n",
    "    df=df.loc[df['year']>=2000]\n",
    "    total_num=len(df)\n",
    "    na_col=df.isna().sum().apply(lambda x:x/total_num)\n",
    "    df=df[na_col.index[na_col<nan_threhold]]\n",
    "    df=df.loc[[i in lisetd_comp for i in df['Stkcd']]]\n",
    "    #df=df.loc[[i[5:7]=='12' for i in df['Accper']]]\n",
    "    if have_type:\n",
    "        df=df.loc[df['Typrep']=='A']\n",
    "    \n",
    "    return df\n",
    "manager_features=pd.read_excel('./管理层治理能力191704076/BDT_ManaGovAbil.xlsx')\n",
    "manager_features=preprocess(manager_features,have_type=False,lisetd_comp=lisetd_comp)"
   ]
  },
  {
   "cell_type": "code",
   "execution_count": 36,
   "metadata": {},
   "outputs": [],
   "source": [
    "X=features.merge(manager_features,how='left',on=['Stkcd','year'])"
   ]
  },
  {
   "cell_type": "code",
   "execution_count": null,
   "metadata": {},
   "outputs": [],
   "source": [
    "X.to_csv('./financial_features.csv',index=False)"
   ]
  },
  {
   "cell_type": "code",
   "execution_count": 38,
   "metadata": {},
   "outputs": [],
   "source": [
    "def preprocess(df:pd.DataFrame,lisetd_comp,nan_threhold=0.15,have_type=True):\n",
    "    df['year']=df['EndDate'].apply(lambda x:int(x[0:4]))\n",
    "    df=df.loc[df['year']>=2000]\n",
    "    total_num=len(df)\n",
    "    na_col=df.isna().sum().apply(lambda x:x/total_num)\n",
    "    df=df[na_col.index[na_col<nan_threhold]]\n",
    "    df=df.loc[[i in lisetd_comp for i in df['Stkcd']]]\n",
    "    #df=df.loc[[i[5:7]=='12' for i in df['Accper']]]\n",
    "    if have_type:\n",
    "        df=df.loc[df['Typrep']=='A']\n",
    "    \n",
    "    return df\n",
    "equity_property=pd.read_excel('./中国上市公司股权性质文件181729700/EN_EquityNatureAll.xlsx')\n",
    "equity_property=preprocess(equity_property,lisetd_comp,have_type=False)\n",
    "X=X.merge(equity_property,how='left',on=['Stkcd','year'])\n",
    "X.to_csv('./financial_features.csv',index=False)"
   ]
  },
  {
   "cell_type": "code",
   "execution_count": 39,
   "metadata": {},
   "outputs": [],
   "source": [
    "X.to_csv('./financial_features.csv',index=False)"
   ]
  },
  {
   "cell_type": "code",
   "execution_count": null,
   "metadata": {},
   "outputs": [],
   "source": [
    "board=pd.read_excel('./董监高个人特征文件220031349/TMT_FIGUREINFO.xlsx')"
   ]
  },
  {
   "cell_type": "code",
   "execution_count": null,
   "metadata": {},
   "outputs": [],
   "source": [
    "import networkx as nx\n",
    "board['year']=board['Reptdt'].apply(lambda x:int(x[0:4]))\n",
    "board['PersonID']=board['PersonID'].apply(lambda x: 'P'+str(x))\n",
    "def graph_cal(df):\n",
    "    edges=df[['Stkcd','PersonID']].values\n",
    "    G=nx.Graph()\n",
    "    G.add_edges_from(edges)\n",
    "    connectedArea=[]\n",
    "    size=[]\n",
    "    comp_size=[]\n",
    "    for g in nx.connected_components(G):\n",
    "        comp_set=set()\n",
    "        connectedArea.append(g)\n",
    "        for c in g:\n",
    "            if isinstance(c,int):\n",
    "                comp_set.add(c)\n",
    "        size.append(len(g))\n",
    "        comp_size.append(len(comp_set))\n",
    "    d={\"cc_num\":len(connectedArea),'ave_cc_size':np.mean(size),'total_size':len(df),'comp_size':np.mean(comp_size)}\n",
    "    return pd.DataFrame(d,index=[0])\n",
    "borad_statistics=board.groupby('year').apply(graph_cal)"
   ]
  },
  {
   "cell_type": "code",
   "execution_count": null,
   "metadata": {},
   "outputs": [],
   "source": [
    "borad_statistics.to_csv('board_statictics.csv')"
   ]
  },
  {
   "cell_type": "code",
   "execution_count": null,
   "metadata": {},
   "outputs": [],
   "source": [
    "board.to_csv('./borad.csv',index=False)"
   ]
  }
 ],
 "metadata": {
  "interpreter": {
   "hash": "dc1602c36809b3d730c66b61d88e30495431918f326b28ce5a312db643059285"
  },
  "kernelspec": {
   "display_name": "Python 3.9.7 64-bit",
   "language": "python",
   "name": "python3"
  },
  "language_info": {
   "codemirror_mode": {
    "name": "ipython",
    "version": 3
   },
   "file_extension": ".py",
   "mimetype": "text/x-python",
   "name": "python",
   "nbconvert_exporter": "python",
   "pygments_lexer": "ipython3",
   "version": "3.7.4"
  },
  "orig_nbformat": 4
 },
 "nbformat": 4,
 "nbformat_minor": 2
}
