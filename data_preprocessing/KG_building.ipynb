{
 "cells": [
  {
   "cell_type": "code",
   "execution_count": 1,
   "metadata": {},
   "outputs": [],
   "source": [
    "import numpy as np\n",
    "import pandas as pd\n",
    "from tqdm import tqdm"
   ]
  },
  {
   "cell_type": "code",
   "execution_count": 3,
   "metadata": {},
   "outputs": [],
   "source": [
    "rpt_financial_varibles=pd.read_csv('rpt_fv.csv')\n",
    "rpt=pd.read_csv('listed_RPT.csv')\n"
   ]
  },
  {
   "cell_type": "code",
   "execution_count": 4,
   "metadata": {},
   "outputs": [
    {
     "name": "stderr",
     "output_type": "stream",
     "text": [
      "100%|██████████| 12048/12048 [00:09<00:00, 1282.68it/s]\n"
     ]
    }
   ],
   "source": [
    "rpt_financial_varibles=pd.read_csv('rpt_fv.csv')\n",
    "rpt=pd.read_csv('listed_RPT.csv')\n",
    "triples={}\n",
    "###增加 关联交易（RPT） 关系\n",
    "for i in rpt.index:\n",
    "    \n",
    "    year=str(rpt.loc[i,'tradeYear'])\n",
    "    t=tuple([year+'.comp.'+str(rpt.loc[i,'cp1']),'RPT',year+'.comp.'+str(rpt.loc[i,'cp2'])])\n",
    "    triples[t]=1\n",
    "from tqdm import tqdm\n",
    "tmpT=np.array([list(i) for i in list(triples.keys())])\n",
    "X=[list(i) for i in list(triples.keys())]\n",
    "###增加company meta关系\n",
    "for i in tqdm(range(len(tmpT))):\n",
    "    c1=tmpT[i][0]\n",
    "    t=[c1,'meta.company','meta.comp.'+str(c1.split('.')[2])]\n",
    "    if t not in X:\n",
    "        X.append(t)\n",
    "\n"
   ]
  },
  {
   "cell_type": "code",
   "execution_count": 12,
   "metadata": {},
   "outputs": [],
   "source": [
    "X=X+manager_triples\n",
    "from sklearn.model_selection import train_test_split\n",
    "train_ids,test_ids=train_test_split(range(len(X)),test_size=0.05)\n",
    "train_ids,val_ids=train_test_split(train_ids,test_size=0.1)\n",
    "X=np.array(X)\n",
    "pd.DataFrame(X[train_ids]).to_csv('./dglke_dataset/KG5/train.txt',index=None,header=None,sep='\\t')\n",
    "pd.DataFrame(X[val_ids]).to_csv('./dglke_dataset/KG5/valid.txt',index=None,header=None,sep='\\t')\n",
    "pd.DataFrame(X[test_ids]).to_csv('./dglke_dataset/KG5/test.txt',index=None,header=None,sep='\\t')\n",
    "\n"
   ]
  },
  {
   "cell_type": "code",
   "execution_count": 15,
   "metadata": {},
   "outputs": [
    {
     "data": {
      "text/plain": [
       "45"
      ]
     },
     "execution_count": 15,
     "metadata": {},
     "output_type": "execute_result"
    }
   ],
   "source": [
    "len(set(X[:,1]))"
   ]
  },
  {
   "cell_type": "markdown",
   "metadata": {},
   "source": [
    "KG5: 公司类别变量+董监高人员（时序节点包括时间和公司信息，元节点只包括人员编码）+董监高人员特征\n",
    "\n",
    "\n",
    " 7322041 triples，512251 entities，45 relations\n",
    " "
   ]
  },
  {
   "cell_type": "code",
   "execution_count": 2,
   "metadata": {},
   "outputs": [],
   "source": [
    "import json\n",
    "with open('KG4.json') as f:\n",
    "    X=json.load(f)"
   ]
  },
  {
   "cell_type": "code",
   "execution_count": 5,
   "metadata": {},
   "outputs": [
    {
     "name": "stderr",
     "output_type": "stream",
     "text": [
      "100%|██████████| 9366/9366 [00:00<00:00, 20639.66it/s]\n",
      "100%|██████████| 9366/9366 [00:02<00:00, 3766.97it/s]\n"
     ]
    }
   ],
   "source": [
    "###增加分类类别关系\n",
    "industry_triples=[]\n",
    "for i in tqdm(rpt_financial_varibles.index):\n",
    "    \n",
    "    code=rpt_financial_varibles.loc[i,'Stkcd']\n",
    "    ind='ind.'+str(rpt_financial_varibles.loc[i,'IndustryCode'])\n",
    "    industry_triples.append(['meta.comp.'+str(code),'industry',ind])\n",
    "X+=industry_triples\n",
    "categories=['Big4','Outside','OneControlMany','MngmFinancialBack','MngmOverseaBack',\n",
    "'IsCocurP','ConcurrentPosition','ISHoldOtherFinaShares','ISHoldOtherFinaShares','ISHoldBankShares','ContrshrNature','PropertyRightsNature']\n",
    "category_triples=[]\n",
    "for i in tqdm(rpt_financial_varibles.index):\n",
    "    year=rpt_financial_varibles.loc[i,'year']\n",
    "    code=rpt_financial_varibles.loc[i,'Stkcd']\n",
    "    for c in categories:\n",
    "        c_v=rpt_financial_varibles.loc[i,c]\n",
    "        category_triples.append([str(year)+'.comp.'+str(code),'cat.'+c,c+'.'+str(c_v)])\n",
    "X+=category_triples"
   ]
  },
  {
   "cell_type": "code",
   "execution_count": 6,
   "metadata": {},
   "outputs": [],
   "source": [
    "###董事会信息\n",
    "manager=pd.read_csv('./borad.csv')\n",
    "manager=manager.loc[[i in rpt_financial_varibles['Stkcd'] for i in manager['Stkcd']]]"
   ]
  },
  {
   "cell_type": "code",
   "execution_count": 7,
   "metadata": {},
   "outputs": [],
   "source": [
    "manager['Age']=manager['Age'].apply(lambda x: '20-40' if x<=40 else '40-60' if x<=60 else '60-')\n",
    "manager=manager.sort_values(by='year',ascending=True)"
   ]
  },
  {
   "cell_type": "code",
   "execution_count": 8,
   "metadata": {},
   "outputs": [
    {
     "name": "stderr",
     "output_type": "stream",
     "text": [
      "100%|██████████| 385562/385562 [02:57<00:00, 2169.02it/s]\n"
     ]
    }
   ],
   "source": [
    "from tqdm import tqdm\n",
    "meta_column=['Gender','Age','University','Degree','Major','Funback','OveseaBack','Academic','FinBack']\n",
    "manager_triples=[]\n",
    "flag=[]\n",
    "cols=manager.columns.drop(['Stkcd','Reptdt','year','PersonID','Name']+meta_column)\n",
    "for i in tqdm(manager.index):\n",
    "    p_id=manager.loc[i,'PersonID']\n",
    "    meta_p='meta.person.'+str(p_id)\n",
    "    year_p=str(manager.loc[i,'year'])+'.person.'+str(p_id)+'.comp.'+str(manager.loc[i,'Stkcd'])\n",
    "    manager_triples.append([year_p,'meta.person',meta_p])\n",
    "    year_comp=str(manager.loc[i,'year'])+'.comp.'+str(manager.loc[i,'Stkcd'])\n",
    "    manager_triples.append([year_comp,'has_manager',year_p])\n",
    "    for c in cols:\n",
    "        items=manager.loc[i,c]\n",
    "        if isinstance(items,str):\n",
    "            for item in items.split(','):\n",
    "                t=[year_p,'manager.'+str(c),str(c)+'.'+str(item)]\n",
    "                manager_triples.append(t)\n",
    "        elif  np.isnan(items):\n",
    "            continue\n",
    "        else:\n",
    "            t=[year_p,'manager.'+str(c),str(c)+'.'+str(item)]\n",
    "            manager_triples.append(t)\n",
    "\n",
    "        "
   ]
  },
  {
   "cell_type": "code",
   "execution_count": 9,
   "metadata": {},
   "outputs": [
    {
     "name": "stderr",
     "output_type": "stream",
     "text": [
      "100%|██████████| 385562/385562 [01:13<00:00, 5279.53it/s]\n"
     ]
    }
   ],
   "source": [
    "flag=[]\n",
    "meta_manager_triples=dict()\n",
    "for i in tqdm(manager.index):\n",
    "    p_id=manager.loc[i,'PersonID']\n",
    "    meta_p='meta.person.'+str(p_id)\n",
    "    year_p=str(manager.loc[i,'year'])+'.person.'+str(p_id)+'.comp.'+str(manager.loc[i,'Stkcd'])\n",
    "    for c in meta_column:\n",
    "        items=manager.loc[i,c]\n",
    "        if isinstance(items,str) :\n",
    "            for item in items.split(','):\n",
    "                t=[meta_p+'$manager.'+str(c),str(c)+'.'+str(item)]\n",
    "                meta_manager_triples[t[0]]=t[1]\n",
    "        elif np.isnan(items):\n",
    "            continue\n",
    "        else:\n",
    "            t=[meta_p+'$manager.'+str(c),str(c)+'.'+str(item)]\n",
    "            meta_manager_triples[t[0]]=t[1]\n",
    "        "
   ]
  },
  {
   "cell_type": "code",
   "execution_count": 10,
   "metadata": {},
   "outputs": [
    {
     "name": "stderr",
     "output_type": "stream",
     "text": [
      "100%|██████████| 451377/451377 [00:00<00:00, 615763.12it/s]\n"
     ]
    }
   ],
   "source": [
    "for key in tqdm(meta_manager_triples.keys()):\n",
    "        manager_triples.append([key.split('$')[0],key.split('$')[1],meta_manager_triples[key]])"
   ]
  },
  {
   "cell_type": "code",
   "execution_count": 11,
   "metadata": {},
   "outputs": [],
   "source": [
    "del meta_manager_triples"
   ]
  },
  {
   "cell_type": "code",
   "execution_count": 13,
   "metadata": {},
   "outputs": [
    {
     "data": {
      "image/png": "[encoded data removed]",
      "text/plain": [
       "<Figure size 432x288 with 1 Axes>"
      ]
     },
     "metadata": {
      "needs_background": "light"
     },
     "output_type": "display_data"
    }
   ],
   "source": [
    "import matplotlib.pyplot as plt\n",
    "fig, ax = plt.subplots()\n",
    "x=manager['Age'].dropna()\n",
    "ax.hist(x, bins=[20,40,60,80], linewidth=0.5, edgecolor=\"white\")\n",
    "\n",
    "plt.show()"
   ]
  },
  {
   "cell_type": "code",
   "execution_count": 3,
   "metadata": {},
   "outputs": [],
   "source": [
    "import networkx as nx\n",
    "import pandas as pd\n",
    "import numpy as np"
   ]
  },
  {
   "cell_type": "code",
   "execution_count": 2,
   "metadata": {},
   "outputs": [],
   "source": [
    "rpt=pd.read_csv('listed_RPT.csv')\n",
    "rpt['in_node']=rpt.apply(lambda x:str(x['tradeYear'])+'.comp.'+str(x['cp2']),axis=1)\n",
    "rpt['out_node']=rpt.apply(lambda x:str(x['tradeYear'])+'.comp.'+str(x['cp1']),axis=1)\n",
    "rpt=rpt.loc[rpt.apply(lambda x:x['in_node']!=x['out_node'] and x['in_node'] in node_list.values and x['out_node'] in node_list.values,axis=1)]\n",
    "rpt_edges=rpt.groupby(['in_node','out_node']).apply(len)\n",
    "rpt_edges.to_csv('RPT.csv')\n"
   ]
  },
  {
   "cell_type": "code",
   "execution_count": null,
   "metadata": {},
   "outputs": [],
   "source": [
    "rpt_graph=nx.Graph(name='RPT')\n",
    "rpt_graph.add_edges_from(rpt_edges)\n",
    "cc=nx.connected_components(rpt_graph)\n",
    "cc_len=[]\n",
    "for c in cc:\n",
    "    cc_len.append(len(c))\n",
    "\n",
    "print('number of cc:{}'.format(len(cc_len)))\n",
    "print('average size of cc:{}'.format(np.average(cc_len)))\n",
    "print('cc:{}'.format(cc_len))"
   ]
  },
  {
   "cell_type": "code",
   "execution_count": 14,
   "metadata": {},
   "outputs": [],
   "source": [
    "rpt_year=pd.read_csv('KG1.csv')\n",
    "rpt_year=rpt_year.loc[rpt_year.apply(lambda x: x['0'] in node_list.values and x['2'] in node_list.values,axis=1)]\n",
    "rpt_year_edges=rpt_year[['0','2']].values"
   ]
  },
  {
   "cell_type": "code",
   "execution_count": null,
   "metadata": {},
   "outputs": [],
   "source": [
    "rpt_year_graph=nx.Graph(name='RPT')\n",
    "rpt_year_graph.add_edges_from(rpt_year_edges)\n",
    "cc=nx.connected_components(rpt_year_graph)\n",
    "cc_len=[]\n",
    "for c in cc:\n",
    "    cc_len.append(len(c))\n",
    "\n",
    "print('number of cc:{}'.format(len(cc_len)))\n",
    "print('average size of cc:{}'.format(np.average(cc_len)))\n",
    "print('cc:{}'.format(cc_len))"
   ]
  },
  {
   "cell_type": "code",
   "execution_count": 24,
   "metadata": {},
   "outputs": [],
   "source": [
    "largest_cc = list(max(nx.connected_components(rpt_year_graph), key=len))"
   ]
  },
  {
   "cell_type": "code",
   "execution_count": 56,
   "metadata": {},
   "outputs": [
    {
     "name": "stderr",
     "output_type": "stream",
     "text": [
      "100%|██████████| 10639/10639 [02:00<00:00, 88.08it/s]\n"
     ]
    }
   ],
   "source": [
    "from tqdm import  tqdm\n",
    "mm=pd.read_csv('sameYearManager.csv')\n",
    "mm=mm.loc[mm.apply(lambda x:x['0']!=x['2'],axis=1)]\n",
    "mm_edges=mm[['0','2']].values\n",
    "tmpT=mm_edges\n",
    "X=[]\n",
    "###增加 the same company 关系\n",
    "for i in tqdm(range(len(tmpT))):\n",
    "    c1=tmpT[i][0]\n",
    "    c1_n_set=[]\n",
    "    for j in range(len(tmpT)):\n",
    "        c2=tmpT[j][0]\n",
    "        c3=tmpT[j][1]\n",
    "        if c2!=c1 and c1[4:]==c2[4:]:\n",
    "            t=int(c2[0:4])\n",
    "            if t not in c1_n_set and t<int(c1[0:4]):\n",
    "                \n",
    "                c1_n_set.append(t)\n",
    "        if c3!=c1 and c1[4:]==c3[4:]:\n",
    "            t=int(c3[0:4])\n",
    "            if t not in c1_n_set and t<int(c1[0:4]):\n",
    "                c1_n_set.append(t)\n",
    "    if len(c1_n_set)!=0:\n",
    "        t=[c1,'year.previous',str(max(c1_n_set))+c1[4:]]\n",
    "        if t not in X:\n",
    "            X.append(t)"
   ]
  },
  {
   "cell_type": "code",
   "execution_count": 68,
   "metadata": {},
   "outputs": [],
   "source": [
    "edges2=np.array(mm.values.tolist()+X+[[i[0],'rpt',i[1]] for i in rpt_edges])"
   ]
  },
  {
   "cell_type": "code",
   "execution_count": 4,
   "metadata": {},
   "outputs": [],
   "source": [
    "import pandas as pd\n",
    "f=pd.read_csv('RT_SC_B_features.csv')[['Stkcd','year']]\n",
    "node_list=f.apply(lambda x:str(x['year'])+'.comp.'+str(x['Stkcd']),axis=1)"
   ]
  },
  {
   "cell_type": "code",
   "execution_count": 80,
   "metadata": {},
   "outputs": [],
   "source": [
    "edges3=edges2[[i[0] in node_list.values and i[2] in node_list.values for i in edges2]]\n",
    "pd.DataFrame(edges3).to_csv('KG6.csv',index=False)"
   ]
  },
  {
   "cell_type": "code",
   "execution_count": 13,
   "metadata": {},
   "outputs": [],
   "source": [
    "\n",
    "import networkx as nx\n",
    "from tqdm import  tqdm\n",
    "import numpy as np\n",
    "mm0=pd.read_csv('sameManager.csv')\n",
    "mm=mm0.loc[mm0.apply(lambda x:x['0']!=x['2'] and x['0'] in node_list.values and x['2'] in node_list.values,axis=1)]\n",
    "mm_edges=mm[['0','2']].values\n",
    "G=nx.Graph()\n",
    "G.add_nodes_from(node_list)\n",
    "G.add_edges_from(np.array(mm_edges))"
   ]
  },
  {
   "cell_type": "code",
   "execution_count": 19,
   "metadata": {},
   "outputs": [],
   "source": [
    "G=nx.Graph()\n",
    "G.add_nodes_from(node_list)\n",
    "G.add_edges_from(np.array(mm_edges))"
   ]
  },
  {
   "cell_type": "code",
   "execution_count": 21,
   "metadata": {},
   "outputs": [],
   "source": [
    "G.add_edges_from(rpt_edges)"
   ]
  },
  {
   "cell_type": "code",
   "execution_count": 5,
   "metadata": {},
   "outputs": [
    {
     "name": "stdout",
     "output_type": "stream",
     "text": [
      "number of cc:15\n",
      "average size of cc:621.8\n",
      "cc:[9274, 19, 2, 6, 2, 2, 4, 3, 2, 2, 2, 3, 2, 2, 2]\n"
     ]
    }
   ],
   "source": [
    "mm_graph=nx.Graph(name='mm')\n",
    "mm_graph.add_edges_from(mm_edges) \n",
    "cc=nx.connected_components(mm_graph)\n",
    "cc_len=[]\n",
    "for c in cc:\n",
    "    cc_len.append(len(c))\n",
    "\n",
    "print('number of cc:{}'.format(len(cc_len)))\n",
    "print('average size of cc:{}'.format(np.average(cc_len)))\n",
    "print('cc:{}'.format(cc_len))"
   ]
  },
  {
   "cell_type": "code",
   "execution_count": 32,
   "metadata": {},
   "outputs": [],
   "source": [
    "adj=nx.adjacency_matrix(G)"
   ]
  },
  {
   "cell_type": "code",
   "execution_count": 15,
   "metadata": {},
   "outputs": [],
   "source": [
    "adj=nx.adjacency_matrix(G)\n",
    "import scipy.sparse as sp\n",
    "sp.save_npz('./HSM.npz',adj)"
   ]
  },
  {
   "cell_type": "code",
   "execution_count": 31,
   "metadata": {},
   "outputs": [],
   "source": [
    "adj=sp.coo_matrix(adj)"
   ]
  },
  {
   "cell_type": "code",
   "execution_count": 10,
   "metadata": {},
   "outputs": [],
   "source": [
    "a=adj.toarray()"
   ]
  },
  {
   "cell_type": "code",
   "execution_count": 4,
   "metadata": {},
   "outputs": [],
   "source": [
    "G.add_edges_from(rpt_year_edges)"
   ]
  },
  {
   "cell_type": "code",
   "execution_count": 15,
   "metadata": {},
   "outputs": [
    {
     "name": "stdout",
     "output_type": "stream",
     "text": [
      "number of cc:15\n",
      "average size of cc:621.8\n",
      "cc:[9274, 19, 2, 6, 2, 2, 4, 3, 2, 2, 2, 3, 2, 2, 2]\n"
     ]
    }
   ],
   "source": [
    "mm_graph=nx.Graph(name='mm')\n",
    "mm_graph.add_edges_from(mm_edges) \n",
    "cc=nx.connected_components(mm_graph)\n",
    "cc_len=[]\n",
    "for c in cc:\n",
    "    cc_len.append(len(c))\n",
    "\n",
    "print('number of cc:{}'.format(len(cc_len)))\n",
    "print('average size of cc:{}'.format(np.average(cc_len)))\n",
    "print('cc:{}'.format(cc_len))"
   ]
  },
  {
   "cell_type": "code",
   "execution_count": 22,
   "metadata": {},
   "outputs": [],
   "source": [
    "adj3=nx.adjacency_matrix(G)"
   ]
  },
  {
   "cell_type": "code",
   "execution_count": null,
   "metadata": {},
   "outputs": [],
   "source": [
    "import scipy.sparse as sp\n",
    "import pandas as pd\n",
    "sp.save_npz('./RPT_HSM.npz',adj3)"
   ]
  },
  {
   "cell_type": "code",
   "execution_count": 16,
   "metadata": {},
   "outputs": [],
   "source": [
    "manager=pd.read_csv('borad.csv')"
   ]
  },
  {
   "cell_type": "code",
   "execution_count": 17,
   "metadata": {},
   "outputs": [],
   "source": [
    "manager['p_node']=manager.apply(lambda x:'.person.'+x['PersonID'],axis=1)\n",
    "manager['c_node']=manager.apply(lambda x:x['Reptdt'][0:4]+'.comp.'+str(x['Stkcd']),axis=1)\n",
    "manager=manager[['p_node','c_node']]"
   ]
  },
  {
   "cell_type": "code",
   "execution_count": 18,
   "metadata": {},
   "outputs": [],
   "source": [
    "import networkx as nx\n",
    "G=nx.Graph()\n",
    "G.add_nodes_from(node_list)\n",
    "G.add_edges_from(manager.values)"
   ]
  },
  {
   "cell_type": "code",
   "execution_count": 9,
   "metadata": {},
   "outputs": [],
   "source": [
    "a=G.nodes"
   ]
  },
  {
   "cell_type": "code",
   "execution_count": 19,
   "metadata": {},
   "outputs": [],
   "source": [
    "adj=nx.adjacency_matrix(G)\n",
    "adj=adj.dot(adj)"
   ]
  },
  {
   "cell_type": "code",
   "execution_count": 20,
   "metadata": {},
   "outputs": [],
   "source": [
    "adj=adj[0:9366,0:9366]\n"
   ]
  },
  {
   "cell_type": "code",
   "execution_count": 21,
   "metadata": {},
   "outputs": [
    {
     "data": {
      "text/plain": [
       "5"
      ]
     },
     "execution_count": 21,
     "metadata": {},
     "output_type": "execute_result"
    }
   ],
   "source": [
    "adj[0,3]"
   ]
  },
  {
   "cell_type": "code",
   "execution_count": 22,
   "metadata": {},
   "outputs": [],
   "source": [
    "import scipy.sparse as sp\n",
    "for i in range(0,9366):\n",
    "    adj[i,i]=0\n",
    "sp.save_npz('./sameManager.npz',adj)"
   ]
  },
  {
   "cell_type": "code",
   "execution_count": 17,
   "metadata": {},
   "outputs": [],
   "source": [
    "G=nx.from_scipy_sparse_matrix(adj)"
   ]
  },
  {
   "cell_type": "code",
   "execution_count": 24,
   "metadata": {},
   "outputs": [],
   "source": [
    "e=G.adj"
   ]
  },
  {
   "cell_type": "code",
   "execution_count": 25,
   "metadata": {},
   "outputs": [],
   "source": [
    "from tqdm import tqdm\n",
    "sm_edges=[]\n",
    "for k in e.keys():\n",
    "    k_dict=e[k]\n",
    "    for sub_k in k_dict.keys():\n",
    "        sm_edges.append([node_list[k],node_list[sub_k],k_dict[sub_k]['weight']])"
   ]
  },
  {
   "cell_type": "code",
   "execution_count": 26,
   "metadata": {},
   "outputs": [],
   "source": [
    "pd.DataFrame(sm_edges,columns=['comp1','comp2','w']).to_csv('sameManager.csv')"
   ]
  },
  {
   "cell_type": "code",
   "execution_count": 27,
   "metadata": {},
   "outputs": [],
   "source": [
    "node_list.to_csv('node_list.csv')"
   ]
  },
  {
   "cell_type": "code",
   "execution_count": 5,
   "metadata": {},
   "outputs": [],
   "source": [
    "G=nx.Graph()\n",
    "G.add_nodes_from(node_list)\n",
    "G.add_edges_from(rpt_edges.index.values)"
   ]
  },
  {
   "cell_type": "code",
   "execution_count": 4,
   "metadata": {},
   "outputs": [],
   "source": [
    "node_list=list(node_list)"
   ]
  },
  {
   "cell_type": "code",
   "execution_count": 7,
   "metadata": {},
   "outputs": [
    {
     "name": "stderr",
     "output_type": "stream",
     "text": [
      "100%|██████████| 8586/8586 [00:03<00:00, 2326.18it/s]\n"
     ]
    }
   ],
   "source": [
    "from tqdm import tqdm\n",
    "adj=nx.adjacency_matrix(G)\n",
    "for e in tqdm(rpt_edges.index):\n",
    "    i=node_list.index(e[0])\n",
    "    j=node_list.index(e[1])\n",
    "    adj[i,j]=rpt_edges.loc[e[0]][e[1]]"
   ]
  },
  {
   "cell_type": "code",
   "execution_count": 8,
   "metadata": {},
   "outputs": [],
   "source": [
    "import scipy.sparse as sp\n",
    "sp.save_npz('./rpt.npz',adj)"
   ]
  },
  {
   "cell_type": "code",
   "execution_count": null,
   "metadata": {},
   "outputs": [],
   "source": []
  }
 ],
 "metadata": {
  "interpreter": {
   "hash": "2469a70536e4d2335a2ea8907942d0699c37342a371ac185bdb5b0aa6f073890"
  },
  "kernelspec": {
   "display_name": "Python 3.7.4 64-bit",
   "language": "python",
   "name": "python3"
  },
  "language_info": {
   "codemirror_mode": {
    "name": "ipython",
    "version": 3
   },
   "file_extension": ".py",
   "mimetype": "text/x-python",
   "name": "python",
   "nbconvert_exporter": "python",
   "pygments_lexer": "ipython3",
   "version": "3.9.7"
  },
  "orig_nbformat": 4
 },
 "nbformat": 4,
 "nbformat_minor": 2
}
