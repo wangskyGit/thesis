{
 "cells": [
  {
   "cell_type": "code",
   "execution_count": 1,
   "metadata": {},
   "outputs": [],
   "source": [
    "import numpy as np\n",
    "import pandas as pd"
   ]
  },
  {
   "cell_type": "code",
   "execution_count": 2,
   "metadata": {},
   "outputs": [
    {
     "name": "stderr",
     "output_type": "stream",
     "text": [
      "D:\\Python\\lib\\site-packages\\ipykernel_launcher.py:8: FutureWarning: Sorting because non-concatenation axis is not aligned. A future version\n",
      "of pandas will change to not sort by default.\n",
      "\n",
      "To accept the future behavior, pass 'sort=False'.\n",
      "\n",
      "To retain the current behavior and silence the warning, pass 'sort=True'.\n",
      "\n",
      "  \n"
     ]
    }
   ],
   "source": [
    "cwwb=pd.DataFrame()\n",
    "gljy=pd.DataFrame()\n",
    "xyfx=pd.DataFrame()\n",
    "for i in range(2011,2019):\n",
    "    tmp=pd.read_excel('./财务舞弊相关数据/fraud'+str(i)+'.xlsx',sheet_name=0)\n",
    "    tmp['year']=i\n",
    "    cwwb=pd.concat([tmp,cwwb],ignore_index=True)\n",
    "    gljy=pd.concat([pd.read_excel('./关联交易双方数据/RPT'+str(i)+'.xlsx'),gljy],ignore_index=True)\n",
    "    xyfx=pd.concat([pd.read_excel('./信用风险相关数据/default'+str(i)+'.xlsx'),xyfx],ignore_index=True)"
   ]
  },
  {
   "cell_type": "code",
   "execution_count": 3,
   "metadata": {},
   "outputs": [
    {
     "name": "stderr",
     "output_type": "stream",
     "text": [
      "100%|██████████| 1429/1429 [00:04<00:00, 341.30it/s]\n"
     ]
    }
   ],
   "source": [
    "triples={}\n",
    "for i in gljy.index:\n",
    "    year=gljy.loc[i,'publish_date'][0:4]\n",
    "    t=tuple([year+'company'+str(gljy.loc[i,'trading_code']),'relatedTransaction',year+'company'+str(gljy.loc[i,'rela_stockid'])])\n",
    "    if t[0]==t[2] or gljy.loc[i,'money']==0:\n",
    "        continue\n",
    "    if t not in triples.keys():\n",
    "        triples[t]=gljy.loc[i,'money']\n",
    "    else:\n",
    "        triples[t]+=gljy.loc[i,'money']\n",
    "\n",
    "values=[(i-min(triples.values()))/(max(triples.values())-min(triples.values())) for i in triples.values()]#[0,1]\n",
    "for i in range(len(values)):        \n",
    "    triples[list(triples.keys())[i]]=values[i]\n",
    "from tqdm import tqdm\n",
    "tmpT=np.array([list(i) for i in list(triples.keys())])\n",
    "X=[list(i) for i in list(triples.keys())]\n",
    "for i in tqdm(range(len(tmpT))):\n",
    "    c1=tmpT[i][0]\n",
    "    for j in range(len(tmpT)):\n",
    "        \n",
    "        c2=tmpT[j][0]\n",
    "        c3=tmpT[j][2]\n",
    "        if c2!=c1 and c1[4:]==c2[4:]:\n",
    "            t=[c1,'sameCompany',c2]\n",
    "            if t not in X:\n",
    "                values.append(1)\n",
    "                X.append(t)\n",
    "        if c3!=c1 and c1[4:]==c3[4:]:\n",
    "            t=[c1,'sameCompany',c3]\n",
    "            if t not in X:\n",
    "                values.append(1)\n",
    "                X.append(t)"
   ]
  },
  {
   "cell_type": "code",
   "execution_count": 4,
   "metadata": {},
   "outputs": [],
   "source": [
    "fraudTriple={}\n",
    "fraudPropertyTriple={}\n",
    "for i in cwwb.index:\n",
    "    year=cwwb.loc[i,'year']\n",
    "    code=cwwb.loc[i,'code']\n",
    "    for j in cwwb.columns:\n",
    "        if j in ['year','code']:\n",
    "            continue\n",
    "        elif j=='label':\n",
    "            continue\n",
    "            # if cwwb.loc[i,j]==1:\n",
    "            #     t=tuple([str(year)+'company'+str(code),'fraud','True'])\n",
    "            # else:\n",
    "            #     t=tuple([str(year)+'company'+str(code),'fraud','False'])\n",
    "            # fraudTriple[t]=1\n",
    "        else:\n",
    "            t=tuple([str(year)+'company'+str(code),j,j+':'+str(cwwb.loc[i,j])])\n",
    "            fraudPropertyTriple[t]=1\n",
    "from sklearn.model_selection import train_test_split\n",
    "#fraudTrain,fraudTest=train_test_split(fraudTriple,test_size=0.3,random_state=5)\n",
    "#X+=fraudTriple\n",
    "X+=[list(i) for i in list(fraudPropertyTriple.keys())]\n",
    "        "
   ]
  },
  {
   "cell_type": "code",
   "execution_count": 5,
   "metadata": {},
   "outputs": [],
   "source": [
    "D=pd.DataFrame(X)\n",
    "D.to_csv('./triples.csv',index=False)\n",
    "from ampligraph.datasets import load_from_csv\n",
    "X = load_from_csv('./', 'triples.csv', sep=',')"
   ]
  },
  {
   "cell_type": "code",
   "execution_count": null,
   "metadata": {},
   "outputs": [],
   "source": [
    "from ampligraph.latent_features import TransE,DistMult,ComplEx\n",
    "from ampligraph.evaluation import train_test_split_no_unseen\n",
    "X_train,X_test=train_test_split_no_unseen(X,test_size=0.15)\n",
    "mr=[]\n",
    "mr_test=[]\n",
    "r=range(100,1301,200)\n",
    "for e in r:\n",
    "    print('----'+str(e)+'----')\n",
    "    model = ComplEx(batches_count=1, seed=555, epochs=e, k=20, loss='pairwise',\n",
    "                    loss_params={'margin':5})\n",
    "    model.fit(X_train)\n",
    "    from ampligraph.evaluation import evaluate_performance,mr_score\n",
    "    rank=evaluate_performance(X_train,model)\n",
    "    mr.append(mr_score(ranks=rank))\n",
    "    rank=evaluate_performance(X_test,model)\n",
    "    mr_test.append(mr_score(ranks=rank))\n",
    "import matplotlib.pyplot  as plt\n",
    "plt.plot(r,mr,label='train')\n",
    "plt.plot(r,mr_test,label='test')\n",
    "plt.show()"
   ]
  },
  {
   "cell_type": "markdown",
   "metadata": {},
   "source": [
    "best epoch num:900,mr=3.81, 222.5"
   ]
  },
  {
   "cell_type": "markdown",
   "metadata": {},
   "source": [
    "k=20,epoch=90：mr:267.9337801608579,hit@10:0.6761394101876675,mrr:0.3097065632601254"
   ]
  },
  {
   "cell_type": "code",
   "execution_count": 5,
   "metadata": {},
   "outputs": [],
   "source": [
    "eval_set=np.array(list(triples.keys())+list(fraudTriple.keys()))\n",
    "eval_set2=np.array(list(fraudPropertyTriple.keys()))\n",
    "X=np.array(X)\n",
    "entity_subset=list(set(eval_set[:,0])|set(eval_set[:,2]))\n",
    "entity_subset2=list(set(eval_set2[:,2]))"
   ]
  },
  {
   "cell_type": "code",
   "execution_count": 6,
   "metadata": {},
   "outputs": [],
   "source": [
    "from sklearn.metrics import roc_auc_score,recall_score,precision_score,f1_score,accuracy_score\n",
    "from tqdm import tqdm\n",
    "def my_eval_auc(eval_set,model):\n",
    "    trueProb=[]\n",
    "    trueLabel=eval_set[:,-1]\n",
    "    for t in tqdm(eval_set):\n",
    "        tmp=t.copy()\n",
    "        tmp[-1]='True'\n",
    "        truescore=model.predict(tmp)\n",
    "        trueProb.append(truescore)\n",
    "    \n",
    "    truescore=[0.5 if max(truescore)-min(truescore)==0 else (max(truescore)-i)/(max(truescore-min(truescore))) for i in truescore]\n",
    "    return roc_auc_score(trueLabel,trueProb)\n",
    "def my_eval(eval_set,model):\n",
    "    trueProb=[]\n",
    "    trueLabel=eval_set[:,-1]\n",
    "    trueLabel=[1 if i=='True' else 0 for i in trueLabel]\n",
    "    predictLabel=[]\n",
    "    for t in tqdm(eval_set):\n",
    "        tv=model.predict([t[0],t[1],'True'])\n",
    "        fv=model.predict([t[0],t[1],'False'])\n",
    "        if tv>fv:\n",
    "            predictLabel.append(1)\n",
    "        else:\n",
    "            predictLabel.append(0)\n",
    "    \n",
    "    \n",
    "    return recall_score(trueLabel,predictLabel),precision_score(trueLabel,predictLabel),f1_score(trueLabel,predictLabel)\n"
   ]
  },
  {
   "cell_type": "code",
   "execution_count": 7,
   "metadata": {},
   "outputs": [
    {
     "name": "stderr",
     "output_type": "stream",
     "text": [
      "0it [00:00, ?it/s]"
     ]
    },
    {
     "name": "stdout",
     "output_type": "stream",
     "text": [
      "ERROR - Exception occurred for parameters:{'batches_count': 10, 'epochs': 10, 'k': 10, 'optimizer_params': {'lr': 0.1}}\n",
      "ERROR - database is locked\n"
     ]
    },
    {
     "name": "stderr",
     "output_type": "stream",
     "text": [
      "3it [00:15,  4.47s/it]"
     ]
    }
   ],
   "source": [
    "from ampligraph.latent_features import TransE,DistMult,ComplEx\n",
    "from ampligraph.evaluation import evaluate_performance,mr_score,mrr_score,hits_at_n_score,train_test_split_no_unseen,select_best_model_ranking\n",
    "import numpy as np\n",
    "import random\n",
    "from myKGE import myDismult,myComplex\n",
    "X_train,X_test=train_test_split_no_unseen(X,test_size=100)\n",
    "X_train,X_valid=train_test_split_no_unseen(X_train,test_size=100)\n",
    "params={\"batches_count\":[10,50],\"epochs\":[10,100,200,500],\"k\":[10,20,30,50],\"optimizer_params\":[{\"lr\":0.1},{\"lr\":0.01}]}\n",
    "m=select_best_model_ranking(myComplex,X_train,X_valid,X_test,params,entities_subset=entity_subset,verbose=True)"
   ]
  },
  {
   "cell_type": "code",
   "execution_count": 10,
   "metadata": {},
   "outputs": [
    {
     "data": {
      "text/plain": [
       "{'batches_count': 10, 'epochs': 10, 'k': 50, 'optimizer_params': {'lr': 0.01}}"
      ]
     },
     "execution_count": 10,
     "metadata": {},
     "output_type": "execute_result"
    }
   ],
   "source": [
    "m[1]"
   ]
  },
  {
   "cell_type": "code",
   "execution_count": 7,
   "metadata": {},
   "outputs": [],
   "source": [
    "from ampligraph.evaluation import train_test_split_no_unseen\n",
    "train1,test1= train_test_split_no_unseen(X[0:6683],test_size=200)\n",
    "train2=X[6683:]\n",
    "train=np.concatenate([train1,train2],axis=0)\n",
    "company_entity=np.array(set(X[0:6683,0])|set(X[0:6683:,2]))"
   ]
  },
  {
   "cell_type": "code",
   "execution_count": null,
   "metadata": {},
   "outputs": [],
   "source": [
    "from ampligraph.latent_features import TransE,DistMult,ComplEx\n",
    "from myKGE import myDismult,myComplex\n",
    "from ampligraph.evaluation import evaluate_performance,mr_score,mrr_score,hits_at_n_score,train_test_split_no_unseen,select_best_model_ranking\n",
    "import numpy as np\n",
    "import random\n",
    "from myKGE import myDismult,myComplex\n",
    "evalResult=pd.DataFrame(columns=['mr','mrr','hit@10','number-mr','number-mrr','number-hit@10'])#,'trainRecall','trainPrecison','trianF1','testRecall','testPrecison','testF1'])\n",
    "X_train=train\n",
    "best_mrr=0\n",
    "best_e=0\n",
    "for e in range(500,1501,100):\n",
    "    print('============{}============'.format(e))\n",
    "    model = myComplex(seed=555, epochs=e, k=30, loss='pairwise',loss_params={'margin':5},optimizer_params={'lr':0.01})\n",
    "    model.fit(X_train,numberic_entity=True)\n",
    "    # falseSet=eval_set[eval_set[:,-1]=='False',:]\n",
    "    # trueSet=eval_set[eval_set[:,-1]=='True',:]\n",
    "\n",
    "    rank=evaluate_performance(train1,model,entities_subset=entity_subset)\n",
    "    print('company relation train, mrr:{},hit@10:{},hit@1:{} '.format(mrr_score(rank),hits_at_n_score(rank,10),hits_at_n_score(rank,1)))\n",
    "    # tmpevalset=np.array(random.sample(list(list(fraudPropertyTriple.keys())),round(0.25*len(eval_set2))))\n",
    "    # rank2=evaluate_performance(tmpevalset,model,entities_subset=entity_subset2)\n",
    "    # print(mr_score(ranks=rank),mrr_score(rank),hits_at_n_score(rank,10),mr_score(ranks=rank2),mrr_score(rank2),hits_at_n_score(rank2,10))\n",
    "    rank=evaluate_performance(test1,model,entities_subset=entity_subset)\n",
    "    print('company relation test, mrr:{},hit@10:{},hit@1:{} '.format(mrr_score(rank),hits_at_n_score(rank,10),hits_at_n_score(rank,1)))\n",
    "    if mrr_score(rank)>best_mrr:\n",
    "        best_mrr=mrr_score(rank)\n",
    "        best_e=e\n",
    "    # recall1,precision1,f11=my_eval(np.array(fraudTrain),model)\n",
    "    # recall2,precision2,f12=my_eval(np.array(fraudTest),model)\n",
    "   # evalResult.loc[e,:]=[mr_score(ranks=rank),mrr_score(rank),hits_at_n_score(rank,5),recall1,precision1,f11,recall2,precision2,f12]\n",
    "\n"
   ]
  },
  {
   "cell_type": "markdown",
   "metadata": {},
   "source": [
    "link prediction:k=30\n",
    " e         mr       mrr    hit@10 trainRecall trainPrecison   trianF1  \\\n",
    "10   846.412869  0.031156  0.056568    0.654206      0.255941  0.367937   \n",
    "30   169.336729  0.222928  0.477212    0.691589      0.468354  0.558491   \n",
    "50    23.511796  0.384262  0.811796    0.616822      0.571429  0.593258   \n",
    "70     5.693834  0.445752    0.9437    0.551402      0.641304  0.592965   \n",
    "90      3.30429  0.463683  0.979357    0.528037      0.684848  0.596306   \n",
    "110     2.77748  0.468213  0.986595    0.448598      0.680851  0.540845   \n",
    "130    2.581769  0.468647  0.991421    0.392523      0.661417  0.492669   \n",
    "150    2.478552  0.467523   0.99008    0.364486      0.678261  0.474164   \n",
    "170    2.459786  0.466706  0.987668    0.345794      0.711538  0.465409   \n",
    "190    2.492225  0.464746  0.985523    0.327103      0.752688  0.456026   \n",
    "\n",
    "    testRecall testPrecison    testF1  \n",
    "10    0.520833     0.157729  0.242131  \n",
    "30    0.447917      0.17623  0.252941  \n",
    "50     0.40625      0.18932  0.258278  \n",
    "70    0.333333     0.187135    0.2397  \n",
    "90        0.25     0.176471  0.206897  \n",
    "110   0.208333     0.172414  0.188679  \n",
    "130     0.1875     0.178218  0.182741  \n",
    "150   0.166667     0.170213  0.168421  \n",
    "170    0.15625     0.176471  0.165746  \n",
    "190    0.15625       0.1875  0.170455 "
   ]
  },
  {
   "cell_type": "code",
   "execution_count": null,
   "metadata": {},
   "outputs": [
    {
     "name": "stdout",
     "output_type": "stream",
     "text": [
      "no embedding for: 28\n",
      "no embedding for: 156\n",
      "no embedding for: 657\n",
      "no embedding for: 835\n",
      "no embedding for: 937\n",
      "no embedding for: 2011\n",
      "no embedding for: 2049\n",
      "no embedding for: 2226\n",
      "no embedding for: 2338\n",
      "no embedding for: 2384\n",
      "no embedding for: 300083\n",
      "no embedding for: 300204\n",
      "no embedding for: 300450\n",
      "no embedding for: 600027\n",
      "no embedding for: 600177\n",
      "no embedding for: 600420\n",
      "no embedding for: 600486\n",
      "no embedding for: 600500\n",
      "no embedding for: 600570\n",
      "no embedding for: 600812\n",
      "no embedding for: 601068\n",
      "no embedding for: 603127\n",
      "no embedding for: 156\n",
      "no embedding for: 401\n",
      "no embedding for: 711\n",
      "no embedding for: 903\n",
      "no embedding for: 2011\n",
      "no embedding for: 2068\n",
      "no embedding for: 2385\n",
      "no embedding for: 300080\n",
      "no embedding for: 300087\n",
      "no embedding for: 300259\n",
      "no embedding for: 600027\n",
      "no embedding for: 600339\n",
      "no embedding for: 600570\n",
      "no embedding for: 600701\n",
      "no embedding for: 600708\n",
      "no embedding for: 600967\n",
      "no embedding for: 601666\n",
      "no embedding for: 601857\n",
      "no embedding for: 601992\n",
      "no embedding for: 59\n",
      "no embedding for: 589\n",
      "no embedding for: 637\n",
      "no embedding for: 2049\n",
      "no embedding for: 2552\n",
      "no embedding for: 600073\n",
      "no embedding for: 600597\n",
      "no embedding for: 600711\n",
      "no embedding for: 600722\n",
      "no embedding for: 401\n",
      "no embedding for: 591\n",
      "no embedding for: 665\n",
      "no embedding for: 811\n",
      "no embedding for: 300110\n",
      "no embedding for: 600098\n",
      "no embedding for: 600129\n",
      "no embedding for: 600217\n",
      "no embedding for: 600900\n",
      "no embedding for: 600963\n",
      "no embedding for: 2049\n",
      "no embedding for: 600203\n",
      "no embedding for: 600501\n",
      "no embedding for: 600725\n",
      "no embedding for: 756\n",
      "no embedding for: 2049\n",
      "no embedding for: 600363\n",
      "no embedding for: 600426\n",
      "no embedding for: 600885\n",
      "no embedding for: 600579\n",
      "no embedding for: 2011\n",
      "no embedding for: 2226\n",
      "no embedding for: 600601\n",
      "no embedding for: 600730\n"
     ]
    }
   ],
   "source": [
    "for i in cwwb.index:\n",
    "    try:\n",
    "        embedding=model.get_embeddings(str(cwwb.loc[i,'year'])+str(cwwb.loc[i,'code']))\n",
    "        j=0\n",
    "        for e in embedding:\n",
    "            cwwb.loc[i,j]=e\n",
    "            j+=1\n",
    "    except:\n",
    "        print('no embedding for:',cwwb.loc[i,'code'])\n"
   ]
  },
  {
   "cell_type": "code",
   "execution_count": null,
   "metadata": {},
   "outputs": [],
   "source": [
    "for j in range(0,40):\n",
    "    cwwb[j]=cwwb[j].fillna(np.mean(cwwb[j]))\n",
    "cwwb.to_csv('cwwb.csv',index=False)"
   ]
  },
  {
   "cell_type": "code",
   "execution_count": null,
   "metadata": {},
   "outputs": [],
   "source": [
    "FraudData=cwwb.drop(['label','year'],axis=1).values\n",
    "FraudLabl=cwwb.loc[:,'label'].values\n",
    "from sklearn.model_selection import cross_val_score\n",
    "from sklearn.ensemble import RandomForestClassifier"
   ]
  },
  {
   "cell_type": "code",
   "execution_count": null,
   "metadata": {},
   "outputs": [
    {
     "name": "stdout",
     "output_type": "stream",
     "text": [
      "mean auc:0.7055919477495596, auc list: [0.7043268255063522, 0.6713404520008295, 0.703614025647924, 0.7431139122315593, 0.7055645233611334]\n",
      "mean precision: 0.2504802721072593, precision list [0.25757575757575757, 0.18385650224215247, 0.2773722627737226, 0.2727272727272727, 0.2608695652173913]\n",
      "mean recall:0.7213948259789345, recall list: [0.7183098591549296, 0.7735849056603774, 0.6031746031746031, 0.75, 0.7619047619047619]\n"
     ]
    }
   ],
   "source": [
    "\n",
    "#cwwb1=cwwb.sample(frac=1)\n",
    "from sklearn.model_selection import KFold\n",
    "from sklearn import metrics\n",
    "\n",
    "kf=KFold(n_splits=5,random_state=1,shuffle=True)\n",
    "auc=[]\n",
    "recall=[]\n",
    "precision=[]\n",
    "for train_index, test_index in kf.split(FraudData):\n",
    "    #print(\"TRAIN:\", train_index, \"TEST:\", test_index)\n",
    "    X_train, X_test = FraudData[train_index], FraudData[test_index]\n",
    "    y_train, y_test = FraudLabl[train_index], FraudLabl[test_index]\n",
    "    n =160\n",
    "    #print('=======estimators num={}========'.format(n))\n",
    "    clf = RandomForestClassifier(n_estimators=n,random_state=0,class_weight='balanced')\n",
    "    clf.fit(X_train,y_train)\n",
    "    y_prob=clf.predict_proba(X_test)\n",
    "    y_prob=y_prob[:,1]\n",
    "    fpr, tpr, thresholds = metrics.roc_curve(y_test, y_prob)\n",
    "    roc_auc = metrics.auc(fpr, tpr)\n",
    "    auc.append(metrics.roc_auc_score(y_test,y_prob))\n",
    "    optimal_th, optimal_point = Find_Optimal_Cutoff(TPR=tpr, FPR=fpr, threshold=thresholds)\n",
    "    y_pred=[1 if i > optimal_th else 0 for i in y_prob]\n",
    "    recall.append(metrics.recall_score(y_test,y_pred))\n",
    "    precision.append(metrics.precision_score(y_test,y_pred))\n",
    "print('mean auc:{}, auc list:'.format(np.mean(auc)),auc)\n",
    "print('mean precision: {}, precision list'.format(np.mean(precision)),precision)\n",
    "print('mean recall:{}, recall list:'.format(np.mean(recall)),recall)"
   ]
  },
  {
   "cell_type": "markdown",
   "metadata": {},
   "source": [
    "保证n不变：AUC 0.718 => 0.722\n",
    "重新选择n： AUC 0.718 => 0.725"
   ]
  },
  {
   "cell_type": "code",
   "execution_count": null,
   "metadata": {},
   "outputs": [
    {
     "name": "stdout",
     "output_type": "stream",
     "text": [
      "train auc mean:0.9932312,test auc mean:0.673795\n"
     ]
    }
   ],
   "source": [
    "import xgboost\n",
    "params = {\"objective\": \"binary:logistic\", 'learning_rate': 0.1,\"lambda\":10}\n",
    "Dmatrix=xgboost.DMatrix(data=FraudData,label=FraudLabl)\n",
    "res=xgboost.cv(params,Dmatrix,nfold=5,num_boost_round=50,metrics=['auc','error'])\n",
    "print('train auc mean:{},test auc mean:{}'.format(res.loc[49,'train-auc-mean'],res.loc[49,'test-auc-mean']))"
   ]
  },
  {
   "cell_type": "code",
   "execution_count": null,
   "metadata": {},
   "outputs": [
    {
     "name": "stdout",
     "output_type": "stream",
     "text": [
      "=======estimators num=100========\n",
      "mean auc:0.7126893231186944, auc list: [0.7264277306490238, 0.7368598382749325, 0.7013944937673752, 0.6867880485527544, 0.7119765043493856]\n",
      "mean precision: 0.2503972107478419, precision list [0.2672811059907834, 0.22972972972972974, 0.22705314009661837, 0.2636363636363636, 0.2642857142857143]\n",
      "mean recall:0.655015501815927, recall list: [0.8169014084507042, 0.6415094339622641, 0.746031746031746, 0.48333333333333334, 0.5873015873015873]\n",
      "=======estimators num=200========\n",
      "mean auc:0.7275051102002037, auc list: [0.7306490238259528, 0.7554167530582625, 0.7304501838400143, 0.702217553688142, 0.7187920365886468]\n",
      "mean precision: 0.27225331694832344, precision list [0.2543103448275862, 0.22857142857142856, 0.33695652173913043, 0.25675675675675674, 0.2846715328467153]\n",
      "mean recall:0.6660294682138955, recall list: [0.8309859154929577, 0.7547169811320755, 0.49206349206349204, 0.6333333333333333, 0.6190476190476191]\n",
      "=======estimators num=300========\n",
      "mean auc:0.7338547758381951, auc list: [0.729451637780574, 0.7552094132282812, 0.7372657160792754, 0.7236227824463118, 0.723724329656533]\n",
      "mean precision: 0.2586600871495876, precision list [0.24324324324324326, 0.2107843137254902, 0.27586206896551724, 0.28776978417266186, 0.27564102564102566]\n",
      "mean recall:0.711202223825131, recall list: [0.7605633802816901, 0.8113207547169812, 0.6349206349206349, 0.6666666666666666, 0.6825396825396826]\n",
      "=======estimators num=400========\n",
      "mean auc:0.7336800099850092, auc list: [0.7247432723139993, 0.7487818784988596, 0.7504708097928436, 0.7246031746031746, 0.7198009147161689]\n",
      "mean precision: 0.26846680132158723, precision list [0.2717391304347826, 0.19767441860465115, 0.30952380952380953, 0.25139664804469275, 0.312]\n",
      "mean recall:0.7309169482302621, recall list: [0.704225352112676, 0.9622641509433962, 0.6190476190476191, 0.75, 0.6190476190476191]\n",
      "=======estimators num=500========\n",
      "mean auc:0.7366113747229892, auc list: [0.7297763526403376, 0.749611237818785, 0.7438346336651422, 0.7338235294117648, 0.7260111200789167]\n",
      "mean precision: 0.26555993336453554, precision list [0.28888888888888886, 0.21568627450980393, 0.29770992366412213, 0.2641509433962264, 0.26136363636363635]\n",
      "mean recall:0.7223578789297631, recall list: [0.7323943661971831, 0.8301886792452831, 0.6190476190476191, 0.7, 0.7301587301587301]\n",
      "=======estimators num=600========\n",
      "mean auc:0.7388897688483944, auc list: [0.7367577221252588, 0.7470972423802612, 0.7511433952111918, 0.7343137254901961, 0.7251367590350641]\n",
      "mean precision: 0.2701893840198636, precision list [0.2887700534759358, 0.20930232558139536, 0.3185840707964602, 0.2814814814814815, 0.25280898876404495]\n",
      "mean recall:0.7057335206205788, recall list: [0.7605633802816901, 0.8490566037735849, 0.5714285714285714, 0.6333333333333333, 0.7142857142857143]\n",
      "=======estimators num=700========\n",
      "mean auc:0.7422971844636367, auc list: [0.7442261638998254, 0.7475378395189716, 0.7536768002869697, 0.7372315592903829, 0.7288135593220337]\n",
      "mean precision: 0.2753577962403141, precision list [0.29518072289156627, 0.21761658031088082, 0.30656934306569344, 0.2541436464088398, 0.30327868852459017]\n",
      "mean recall:0.7006457191788045, recall list: [0.6901408450704225, 0.7924528301886793, 0.6666666666666666, 0.7666666666666667, 0.5873015873015873]\n",
      "=======estimators num=800========\n",
      "mean auc:0.7408952986438543, auc list: [0.7447944149044121, 0.7511922040223927, 0.7510761366693569, 0.734967320261438, 0.7224464173616716]\n",
      "mean precision: 0.2722361459203565, precision list [0.2857142857142857, 0.2222222222222222, 0.3082706766917293, 0.24338624338624337, 0.30158730158730157]\n",
      "mean recall:0.714730226221058, recall list: [0.7605633802816901, 0.7924528301886793, 0.6507936507936508, 0.7666666666666667, 0.6031746031746031]\n",
      "=======estimators num=900========\n",
      "mean auc:0.739912384643403, auc list: [0.7426837683159476, 0.748211693966411, 0.749282575553762, 0.7388655462184873, 0.7205183391624069]\n",
      "mean precision: 0.27149189300794735, precision list [0.2857142857142857, 0.20704845814977973, 0.3225806451612903, 0.2542372881355932, 0.2878787878787879]\n",
      "mean recall:0.7158226086076206, recall list: [0.704225352112676, 0.8867924528301887, 0.6349206349206349, 0.75, 0.6031746031746031]\n",
      "=======estimators num=1000========\n",
      "mean auc:0.7419058401191995, auc list: [0.7479806794658441, 0.7459309558366162, 0.7531387319522912, 0.740592903828198, 0.7218859295130482]\n",
      "mean precision: 0.2714914258124579, precision list [0.28888888888888886, 0.2052401746724891, 0.3082706766917293, 0.2682926829268293, 0.2867647058823529]\n",
      "mean recall:0.724472284440395, recall list: [0.7323943661971831, 0.8867924528301887, 0.6507936507936508, 0.7333333333333333, 0.6190476190476191]\n"
     ]
    }
   ],
   "source": [
    "from sklearn.model_selection import KFold\n",
    "from sklearn import metrics\n",
    "from sklearn.ensemble import RandomForestClassifier\n",
    "kf=KFold(n_splits=5,random_state=1,shuffle=True)\n",
    "for n in range(100,1001,100):\n",
    "    print('=======estimators num={}========'.format(n))\n",
    "    auc=[]\n",
    "    recall=[]\n",
    "    precision=[]\n",
    "    for train_index, test_index in kf.split(FraudData):\n",
    "        #print(\"TRAIN:\", train_index, \"TEST:\", test_index)\n",
    "        X_train, X_test = FraudData[train_index], FraudData[test_index]\n",
    "        y_train, y_test = FraudLabl[train_index], FraudLabl[test_index]\n",
    "        #n =130\n",
    "        \n",
    "        clf = RandomForestClassifier(n_estimators=n,random_state=0,class_weight='balanced')\n",
    "        clf.fit(X_train,y_train)\n",
    "        y_prob=clf.predict_proba(X_test)\n",
    "        y_prob=y_prob[:,1]\n",
    "        fpr, tpr, thresholds = metrics.roc_curve(y_test, y_prob)\n",
    "        roc_auc = metrics.auc(fpr, tpr)\n",
    "        auc.append(metrics.roc_auc_score(y_test,y_prob))\n",
    "        optimal_th, optimal_point = Find_Optimal_Cutoff(TPR=tpr, FPR=fpr, threshold=thresholds)\n",
    "        y_pred=[1 if i > optimal_th else 0 for i in y_prob]\n",
    "        recall.append(metrics.recall_score(y_test,y_pred))\n",
    "        precision.append(metrics.precision_score(y_test,y_pred))\n",
    "    print('mean auc:{}, auc list:'.format(np.mean(auc)),auc)\n",
    "    print('mean precision: {}, precision list'.format(np.mean(precision)),precision)\n",
    "    print('mean recall:{}, recall list:'.format(np.mean(recall)),recall)"
   ]
  },
  {
   "cell_type": "markdown",
   "metadata": {},
   "source": [
    "best model of randomforest:\n",
    "n=700\n",
    "mean auc:0.7422971844636367, auc list: [0.7442261638998254, 0.7475378395189716, 0.7536768002869697, 0.7372315592903829, 0.7288135593220337]\n",
    "mean precision: 0.2753577962403141, precision list [0.29518072289156627, 0.21761658031088082, 0.30656934306569344, 0.2541436464088398, 0.30327868852459017]\n",
    "mean recall:0.7006457191788045, recall list: [0.6901408450704225, 0.7924528301886793, 0.6666666666666666, 0.7666666666666667, 0.5873015873015873]"
   ]
  },
  {
   "cell_type": "code",
   "execution_count": 7,
   "metadata": {},
   "outputs": [
    {
     "name": "stdout",
     "output_type": "stream",
     "text": [
      "best f1: 0.42500000000000004\n"
     ]
    },
    {
     "name": "stderr",
     "output_type": "stream",
     "text": [
      "D:\\Python\\lib\\site-packages\\ipykernel_launcher.py:22: RuntimeWarning: invalid value encountered in double_scalars\n"
     ]
    },
    {
     "data": {
      "image/png": "[encoded data removed]",
      "text/plain": [
       "<Figure size 432x288 with 1 Axes>"
      ]
     },
     "metadata": {
      "needs_background": "light"
     },
     "output_type": "display_data"
    },
    {
     "name": "stderr",
     "output_type": "stream",
     "text": [
      "D:\\Python\\lib\\site-packages\\sklearn\\metrics\\_classification.py:1308: UndefinedMetricWarning: Precision is ill-defined and being set to 0.0 due to no predicted samples. Use `zero_division` parameter to control this behavior.\n",
      "  _warn_prf(average, modifier, msg_start, len(result))\n"
     ]
    },
    {
     "name": "stdout",
     "output_type": "stream",
     "text": [
      "best f1: 0.35460992907801425\n"
     ]
    },
    {
     "name": "stderr",
     "output_type": "stream",
     "text": [
      "D:\\Python\\lib\\site-packages\\ipykernel_launcher.py:22: RuntimeWarning: invalid value encountered in double_scalars\n"
     ]
    },
    {
     "data": {
      "image/png": "[encoded data removed]",
      "text/plain": [
       "<Figure size 432x288 with 1 Axes>"
      ]
     },
     "metadata": {
      "needs_background": "light"
     },
     "output_type": "display_data"
    },
    {
     "name": "stdout",
     "output_type": "stream",
     "text": [
      "best f1: 0.42622950819672134\n"
     ]
    },
    {
     "name": "stderr",
     "output_type": "stream",
     "text": [
      "D:\\Python\\lib\\site-packages\\ipykernel_launcher.py:22: RuntimeWarning: invalid value encountered in double_scalars\n"
     ]
    },
    {
     "data": {
      "image/png": "[encoded data removed]",
      "text/plain": [
       "<Figure size 432x288 with 1 Axes>"
      ]
     },
     "metadata": {
      "needs_background": "light"
     },
     "output_type": "display_data"
    },
    {
     "name": "stdout",
     "output_type": "stream",
     "text": [
      "best f1: 0.43356643356643354\n"
     ]
    },
    {
     "name": "stderr",
     "output_type": "stream",
     "text": [
      "D:\\Python\\lib\\site-packages\\ipykernel_launcher.py:22: RuntimeWarning: invalid value encountered in double_scalars\n"
     ]
    },
    {
     "data": {
      "image/png": "[encoded data removed]",
      "text/plain": [
       "<Figure size 432x288 with 1 Axes>"
      ]
     },
     "metadata": {
      "needs_background": "light"
     },
     "output_type": "display_data"
    },
    {
     "name": "stderr",
     "output_type": "stream",
     "text": [
      "D:\\Python\\lib\\site-packages\\sklearn\\metrics\\_classification.py:1308: UndefinedMetricWarning: Precision is ill-defined and being set to 0.0 due to no predicted samples. Use `zero_division` parameter to control this behavior.\n",
      "  _warn_prf(average, modifier, msg_start, len(result))\n"
     ]
    },
    {
     "name": "stdout",
     "output_type": "stream",
     "text": [
      "best f1: 0.418848167539267\n"
     ]
    },
    {
     "data": {
      "image/png": "[encoded data removed]",
      "text/plain": [
       "<Figure size 432x288 with 1 Axes>"
      ]
     },
     "metadata": {
      "needs_background": "light"
     },
     "output_type": "display_data"
    },
    {
     "name": "stdout",
     "output_type": "stream",
     "text": [
      "mean auc:0.7422971844636367, auc list: [0.7442261638998254, 0.7475378395189716, 0.7536768002869697, 0.7372315592903829, 0.7288135593220337]\n",
      "mean precision: 0.060655737704918035, precision list [0.0, 0.0, 0.0, 0.0, 0.30327868852459017]\n",
      "mean recall:0.11746031746031746, recall list: [0.0, 0.0, 0.0, 0.0, 0.5873015873015873]\n"
     ]
    }
   ],
   "source": [
    "#best model of RF\n",
    "import matplotlib.pylab as plt\n",
    "auc=[]\n",
    "recall=[]\n",
    "precision=[]\n",
    "from sklearn.model_selection import KFold\n",
    "from sklearn import metrics\n",
    "from sklearn.ensemble import RandomForestClassifier\n",
    "kf=KFold(n_splits=5,random_state=1,shuffle=True)\n",
    "for train_index, test_index in kf.split(FraudData):\n",
    "    #print(\"TRAIN:\", train_index, \"TEST:\", test_index)\n",
    "    X_train, X_test = FraudData[train_index], FraudData[test_index]\n",
    "    y_train, y_test = FraudLabl[train_index], FraudLabl[test_index]\n",
    "    #n =130\n",
    "    \n",
    "    clf = RandomForestClassifier(n_estimators=700,random_state=0,class_weight='balanced')\n",
    "    clf.fit(X_train,y_train)\n",
    "    y_prob=clf.predict_proba(X_test)\n",
    "    y_prob=y_prob[:,1]\n",
    "    fpr, tpr, thresholds = metrics.roc_curve(y_test, y_prob)\n",
    "    p,r,th=metrics.precision_recall_curve(y_test,y_prob)\n",
    "    f1s=[(2*p*r/(p+r)) for p, r in zip(p, r)]\n",
    "    optimal_f1_index=np.argmax(f1s)\n",
    "    optimal_th=th[optimal_f1_index]\n",
    "    print('best f1:',max(f1s))\n",
    "    plt.plot(p,r)\n",
    "    plt.title('PR graph')\n",
    "    plt.show()\n",
    "    roc_auc = metrics.auc(fpr, tpr)\n",
    "    auc.append(metrics.roc_auc_score(y_test,y_prob))\n",
    "    #optimal_th, optimal_point = Find_Optimal_Cutoff(TPR=tpr, FPR=fpr, threshold=thresholds)\n",
    "    y_pred=[1 if i > optimal_th else 0 for i in y_prob]\n",
    "    recall.append(metrics.recall_score(y_test,y_pred))\n",
    "    precision.append(metrics.precision_score(y_test,y_pred))\n",
    "print('mean auc:{}, auc list:'.format(np.mean(auc)),auc)\n",
    "print('mean precision: {}, precision list'.format(np.mean(precision)),precision)\n",
    "print('mean recall:{}, recall list:'.format(np.mean(recall)),recall)"
   ]
  },
  {
   "cell_type": "code",
   "execution_count": null,
   "metadata": {},
   "outputs": [],
   "source": [
    "import xgboost as xgb\n",
    "\n",
    "params = {\"objective\": \"binary:logistic\", 'learning_rate': 0.1,\"lambda\":10,\"n_estimators\":50}\n",
    "def Find_Optimal_Cutoff(TPR, FPR, threshold):\n",
    "    y = TPR - FPR\n",
    "    Youden_index = np.argmax(y)  # Only the first occurrence is returned.\n",
    "    optimal_threshold = threshold[Youden_index]\n",
    "    point = [FPR[Youden_index], TPR[Youden_index]]\n",
    "    return optimal_threshold, point\n",
    "#cwwb1=cwwb.sample(frac=1)\n",
    "from sklearn.model_selection import KFold\n",
    "from sklearn import metrics\n",
    "kf=KFold(n_splits=5,random_state=1,shuffle=True)\n",
    "meanAuc=[]\n",
    "meanRecall=[]\n",
    "meanPrecision=[]\n",
    "r=range(100,300,10)\n",
    "for n in r:\n",
    "    auc=[]\n",
    "    recall=[]\n",
    "    precision=[]\n",
    "    for train_index, test_index in kf.split(FraudData):\n",
    "        #print(\"TRAIN:\", train_index, \"TEST:\", test_index)\n",
    "        X_train, X_test = FraudData[train_index], FraudData[test_index]\n",
    "        y_train, y_test = FraudLabl[train_index], FraudLabl[test_index]\n",
    "        #print('=======estimators num={}========'.format(n))\n",
    "        xgboostModel = xgb.XGBClassifier(n_estimators=n,learning_rate=0.1,reg_lambda=1,use_label_encoder=False,eval_metric=metrics.log_loss)\n",
    "        xgboostModel.fit(X_train,y_train)\n",
    "        y_prob=xgboostModel.predict_proba(X_test)\n",
    "        y_prob=y_prob[:,1]\n",
    "        fpr, tpr, thresholds = metrics.roc_curve(y_test, y_prob)\n",
    "        roc_auc = metrics.auc(fpr, tpr)\n",
    "        auc.append(metrics.roc_auc_score(y_test,y_prob))\n",
    "        optimal_th, optimal_point = Find_Optimal_Cutoff(TPR=tpr, FPR=fpr, threshold=thresholds)\n",
    "        y_pred=[1 if i > optimal_th else 0 for i in y_prob]\n",
    "        recall.append(metrics.recall_score(y_test,y_pred))\n",
    "        precision.append(metrics.precision_score(y_test,y_pred))\n",
    "    meanAuc.append(np.mean(auc))\n",
    "    meanPrecision.append(np.mean(precision))\n",
    "    meanRecall.append(np.mean(recall))\n",
    "import matplotlib.pyplot  as plt\n",
    "plt.plot(r,meanAuc,label='AUC')\n",
    "plt.plot(r,meanPrecision,label='precision')\n",
    "plt.plot(r,meanRecall,label='recall')\n",
    "plt.show()"
   ]
  },
  {
   "cell_type": "code",
   "execution_count": 16,
   "metadata": {},
   "outputs": [
    {
     "name": "stdout",
     "output_type": "stream",
     "text": [
      "[15:34:22] WARNING: C:/Users/Administrator/workspace/xgboost-win64_release_1.3.0/src/learner.cc:1061: Starting in XGBoost 1.3.0, the default evaluation metric used with the objective 'binary:logistic' was changed from 'error' to 'logloss'. Explicitly set eval_metric if you'd like to restore the old behavior.\n"
     ]
    },
    {
     "data": {
      "image/png": "[encoded data removed]",
      "text/plain": [
       "<Figure size 432x288 with 1 Axes>"
      ]
     },
     "metadata": {
      "needs_background": "light"
     },
     "output_type": "display_data"
    },
    {
     "name": "stdout",
     "output_type": "stream",
     "text": [
      "[15:34:23] WARNING: C:/Users/Administrator/workspace/xgboost-win64_release_1.3.0/src/learner.cc:1061: Starting in XGBoost 1.3.0, the default evaluation metric used with the objective 'binary:logistic' was changed from 'error' to 'logloss'. Explicitly set eval_metric if you'd like to restore the old behavior.\n"
     ]
    },
    {
     "data": {
      "image/png": "[encoded data removed]",
      "text/plain": [
       "<Figure size 432x288 with 1 Axes>"
      ]
     },
     "metadata": {
      "needs_background": "light"
     },
     "output_type": "display_data"
    },
    {
     "name": "stdout",
     "output_type": "stream",
     "text": [
      "[15:34:24] WARNING: C:/Users/Administrator/workspace/xgboost-win64_release_1.3.0/src/learner.cc:1061: Starting in XGBoost 1.3.0, the default evaluation metric used with the objective 'binary:logistic' was changed from 'error' to 'logloss'. Explicitly set eval_metric if you'd like to restore the old behavior.\n"
     ]
    },
    {
     "data": {
      "image/png": "[encoded data removed]",
      "text/plain": [
       "<Figure size 432x288 with 1 Axes>"
      ]
     },
     "metadata": {
      "needs_background": "light"
     },
     "output_type": "display_data"
    },
    {
     "name": "stdout",
     "output_type": "stream",
     "text": [
      "[15:34:25] WARNING: C:/Users/Administrator/workspace/xgboost-win64_release_1.3.0/src/learner.cc:1061: Starting in XGBoost 1.3.0, the default evaluation metric used with the objective 'binary:logistic' was changed from 'error' to 'logloss'. Explicitly set eval_metric if you'd like to restore the old behavior.\n"
     ]
    },
    {
     "data": {
      "image/png": "[encoded data removed]",
      "text/plain": [
       "<Figure size 432x288 with 1 Axes>"
      ]
     },
     "metadata": {
      "needs_background": "light"
     },
     "output_type": "display_data"
    },
    {
     "name": "stdout",
     "output_type": "stream",
     "text": [
      "[15:34:26] WARNING: C:/Users/Administrator/workspace/xgboost-win64_release_1.3.0/src/learner.cc:1061: Starting in XGBoost 1.3.0, the default evaluation metric used with the objective 'binary:logistic' was changed from 'error' to 'logloss'. Explicitly set eval_metric if you'd like to restore the old behavior.\n"
     ]
    },
    {
     "data": {
      "image/png": "[encoded data removed]",
      "text/plain": [
       "<Figure size 432x288 with 1 Axes>"
      ]
     },
     "metadata": {
      "needs_background": "light"
     },
     "output_type": "display_data"
    }
   ],
   "source": [
    "#best model for xgboost\n",
    "auc=[]\n",
    "recall=[]\n",
    "precision=[]\n",
    "for train_index, test_index in kf.split(FraudData):\n",
    "    #print(\"TRAIN:\", train_index, \"TEST:\", test_index)\n",
    "    X_train, X_test = FraudData[train_index], FraudData[test_index]\n",
    "    y_train, y_test = FraudLabl[train_index], FraudLabl[test_index]\n",
    "    #print('=======estimators num={}========'.format(n))\n",
    "    xgboostModel = xgb.XGBClassifier(n_estimators=170,learning_rate=0.1,reg_lambda=1,use_label_encoder=False,eval_metric=metrics.log_loss)\n",
    "    xgboostModel.fit(X_train,y_train)\n",
    "    y_prob=xgboostModel.predict_proba(X_test)\n",
    "    y_prob=y_prob[:,1]\n",
    "    fpr, tpr, thresholds = metrics.roc_curve(y_test, y_prob)\n",
    "    plt.plot(fpr,tpr)\n",
    "    plt.show()\n",
    "    roc_auc = metrics.auc(fpr, tpr)\n",
    "    auc.append(metrics.roc_auc_score(y_test,y_prob))\n",
    "    optimal_th, optimal_point = Find_Optimal_Cutoff(TPR=tpr, FPR=fpr, threshold=thresholds)\n",
    "    y_pred=[1 if i > optimal_th else 0 for i in y_prob]\n",
    "    recall.append(metrics.recall_score(y_test,y_pred))\n",
    "    precision.append(metrics.precision_score(y_test,y_pred))\n",
    "meanAuc.append(np.mean(auc))\n",
    "meanPrecision.append(np.mean(precision))\n",
    "meanRecall.append(np.mean(recall))"
   ]
  },
  {
   "cell_type": "markdown",
   "metadata": {},
   "source": [
    "最优参数 n=170，l=1\n",
    "auc=0.7161,precision=0.2576,recall=0.7465"
   ]
  },
  {
   "cell_type": "code",
   "execution_count": 14,
   "metadata": {},
   "outputs": [
    {
     "name": "stdout",
     "output_type": "stream",
     "text": [
      "3.810454065469905\n",
      "0.35127890228444414\n",
      "0.6033966913058783\n",
      "0.9909362900387187\n"
     ]
    }
   ],
   "source": [
    "from ampligraph.evaluation import mrr_score,hits_at_n_score,mr_score\n",
    "from ampligraph.evaluation import train_test_split_no_unseen,evaluate_performance\n",
    "X_train,X_test=train_test_split_no_unseen(X,test_size=0.15)\n",
    "rank=evaluate_performance(X_train,model)\n",
    "print(mr_score(rank))\n",
    "print(mrr_score(rank))\n",
    "print(hits_at_n_score(rank,3))\n",
    "print(hits_at_n_score(rank,10))"
   ]
  },
  {
   "cell_type": "code",
   "execution_count": null,
   "metadata": {},
   "outputs": [
    {
     "name": "stderr",
     "output_type": "stream",
     "text": [
      "100%|██████████| 1644/1644 [00:03<00:00, 431.23it/s]\n"
     ]
    },
    {
     "name": "stdout",
     "output_type": "stream",
     "text": [
      "WARNING - All triples will be processed in the same batch (batches_count=1). When processing large graphs it is recommended to batch the input knowledge graph instead.\n"
     ]
    }
   ],
   "source": [
    "###related transaction: numberic encoder KGE(full info) + random foreast(linear schema)\n",
    "cwwb=pd.DataFrame()\n",
    "gljy=pd.DataFrame()\n",
    "xyfx=pd.DataFrame()\n",
    "for i in range(2011,2019):\n",
    "    tmp=pd.read_excel('./财务舞弊相关数据/fraud'+str(i)+'.xlsx',sheet_name=0)\n",
    "    tmp['year']=i\n",
    "    cwwb=pd.concat([tmp,cwwb],ignore_index=True)\n",
    "    gljy=pd.concat([pd.read_excel('./关联交易双方数据/RPT'+str(i)+'.xlsx'),gljy],ignore_index=True)\n",
    "    xyfx=pd.concat([pd.read_excel('./信用风险相关数据/default'+str(i)+'.xlsx'),xyfx],ignore_index=True)\n",
    "###KG construct\n",
    "triples={}\n",
    "for i in gljy.index:\n",
    "    year=gljy.loc[i,'publish_date'][0:4]\n",
    "    t=tuple([year+'company'+str(gljy.loc[i,'trading_code']),year+gljy.loc[i,'rela_type'],year+str(gljy.loc[i,'rela_stockid'])])\n",
    "    if t[0]==t[2] or gljy.loc[i,'money']==0:\n",
    "        continue\n",
    "    if t not in triples.keys():\n",
    "        triples[t]=gljy.loc[i,'money']\n",
    "    else:\n",
    "        triples[t]+=gljy.loc[i,'money']\n",
    "\n",
    "values=[(i-min(triples.values()))/(max(triples.values())-min(triples.values())) for i in triples.values()]#[0,1]\n",
    "for i in range(len(values)):        \n",
    "    triples[list(triples.keys())[i]]=values[i]\n",
    "from tqdm import tqdm\n",
    "tmpT=np.array([list(i) for i in list(triples.keys())])\n",
    "X=[list(i) for i in list(triples.keys())]\n",
    "for i in tqdm(range(len(tmpT))):\n",
    "    c1=tmpT[i][0]\n",
    "    for j in range(len(tmpT)):\n",
    "        \n",
    "        c2=tmpT[j][0]\n",
    "        c3=tmpT[j][2]\n",
    "        if c2!=c1 and c1[4:]==c2[4:]:\n",
    "            t=[c1,'sameCompany',c2]\n",
    "            if t not in X:\n",
    "                values.append(1)\n",
    "                X.append(t)\n",
    "        if c3!=c1 and c1[4:]==c3[4:]:\n",
    "            t=[c1,'sameCompany',c3]\n",
    "            if t not in X:\n",
    "                values.append(1)\n",
    "                X.append(t)\n",
    "fraudTriple={}\n",
    "fraudPropertyTriple={}\n",
    "for i in cwwb.index:\n",
    "    year=cwwb.loc[i,'year']\n",
    "    code=cwwb.loc[i,'code']\n",
    "    for j in cwwb.columns:\n",
    "        if j in ['year','code']:\n",
    "            continue\n",
    "        elif j=='label':\n",
    "            continue\n",
    "        else:\n",
    "            t=tuple([str(year)+'company'+str(code),j,j+':'+str(cwwb.loc[i,j])])\n",
    "            fraudPropertyTriple[t]=1\n",
    "from sklearn.model_selection import train_test_split\n",
    "from myKGE import myComplex\n",
    "X+=[list(i) for i in list(fraudPropertyTriple.keys())]\n",
    "eval_set=np.array(list(triples.keys())+list(fraudTriple.keys()))\n",
    "X=np.array(X)\n",
    "entity_subset=list(set(eval_set[:,0])|set(eval_set[:,2]))\n",
    "model = myComplex(batches_count=1, seed=555, epochs=1200, k=30, loss='pairwise',\n",
    "                        loss_params={'margin':5})\n",
    "model.fit(X,numberic_entity=True)\n",
    "from ampligraph.utils import save_model\n",
    "save_model(model,'./numberic-encoder-rt.model')\n",
    "newCWWB=cwwb\n",
    "for i in cwwb.index:\n",
    "    try:\n",
    "        embedding=model.get_embeddings(str(cwwb.loc[i,'year'])+'company'+str(cwwb.loc[i,'code']))\n",
    "        j=0\n",
    "        for e in embedding:\n",
    "            newCWWB.loc[i,j]=e\n",
    "            j+=1\n",
    "    except:\n",
    "        print('no embedding for:',cwwb.loc[i,'code'])\n",
    "newCWWB['label']=cwwb['label']\n",
    "for j in range(0,40):\n",
    "    newCWWB[j]=newCWWB[j].fillna(np.mean(newCWWB[j]))\n",
    "FraudData=newCWWB.drop(['label','year'],axis=1).values\n",
    "FraudLabl=newCWWB.loc[:,'label'].values\n",
    "from sklearn.model_selection import cross_val_score\n",
    "from sklearn.ensemble import RandomForestClassifier\n",
    "def Find_Optimal_Cutoff(TPR, FPR, threshold):\n",
    "    y = TPR - FPR\n",
    "    Youden_index = np.argmax(y)  # Only the first occurrence is returned.\n",
    "    optimal_threshold = threshold[Youden_index]\n",
    "    point = [FPR[Youden_index], TPR[Youden_index]]\n",
    "    return optimal_threshold, point\n",
    "#cwwb1=cwwb.sample(frac=1)\n",
    "from sklearn.model_selection import KFold\n",
    "from sklearn import metrics\n",
    "kf=KFold(n_splits=5,random_state=1,shuffle=True)\n",
    "\n"
   ]
  },
  {
   "cell_type": "code",
   "execution_count": null,
   "metadata": {},
   "outputs": [],
   "source": [
    "newCWWB=cwwb\n",
    "for i in cwwb.index:\n",
    "    try:\n",
    "        embedding=model.get_embeddings(str(cwwb.loc[i,'year'])+'company'+str(cwwb.loc[i,'code']))\n",
    "        j=0\n",
    "        for e in embedding:\n",
    "            newCWWB.loc[i,j]=e\n",
    "            j+=1\n",
    "    except:\n",
    "        print('no embedding for:',cwwb.loc[i,'code'])\n",
    "newCWWB['label']=cwwb['label']\n",
    "for j in range(0,40):\n",
    "    newCWWB[j]=newCWWB[j].fillna(np.mean(newCWWB[j]))\n",
    "FraudData=newCWWB.drop(['label','year'],axis=1).values\n",
    "FraudLabl=newCWWB.loc[:,'label'].values\n",
    "from sklearn.model_selection import cross_val_score\n",
    "from sklearn.ensemble import RandomForestClassifier\n",
    "def Find_Optimal_Cutoff(TPR, FPR, threshold):\n",
    "    y = TPR - FPR\n",
    "    Youden_index = np.argmax(y)  # Only the first occurrence is returned.\n",
    "    optimal_threshold = threshold[Youden_index]\n",
    "    point = [FPR[Youden_index], TPR[Youden_index]]\n",
    "    return optimal_threshold, point\n",
    "#cwwb1=cwwb.sample(frac=1)\n",
    "from sklearn.model_selection import KFold\n",
    "from sklearn import metrics\n",
    "kf=KFold(n_splits=5,random_state=1,shuffle=True)\n"
   ]
  },
  {
   "cell_type": "code",
   "execution_count": null,
   "metadata": {},
   "outputs": [],
   "source": [
    "for n in range(1450,2500,100):\n",
    "    print(n)\n",
    "    auc=[]\n",
    "    recall=[]\n",
    "    precision=[]\n",
    "    for train_index, test_index in kf.split(FraudData):\n",
    "        #print(\"TRAIN:\", train_index, \"TEST:\", test_index)\n",
    "        X_train, X_test = FraudData[train_index], FraudData[test_index]\n",
    "        y_train, y_test = FraudLabl[train_index], FraudLabl[test_index]\n",
    "        \n",
    "        #print('=======estimators num={}========'.format(n))\n",
    "        clf = RandomForestClassifier(n_estimators=n,random_state=0,class_weight='balanced')\n",
    "        clf.fit(X_train,y_train)\n",
    "        y_prob=clf.predict_proba(X_test)\n",
    "        y_prob=y_prob[:,1]\n",
    "        fpr, tpr, thresholds = metrics.roc_curve(y_test, y_prob)\n",
    "        roc_auc = metrics.auc(fpr, tpr)\n",
    "        auc.append(metrics.roc_auc_score(y_test,y_prob))\n",
    "        optimal_th, optimal_point = Find_Optimal_Cutoff(TPR=tpr, FPR=fpr, threshold=thresholds)\n",
    "        y_pred=[1 if i > optimal_th else 0 for i in y_prob]\n",
    "        recall.append(metrics.recall_score(y_test,y_pred))\n",
    "        precision.append(metrics.precision_score(y_test,y_pred))\n",
    "    print('mean auc:{}, auc list:'.format(np.mean(auc)),auc)\n",
    "    print('mean precision: {}, precision list'.format(np.mean(precision)),precision)\n",
    "    print('mean recall:{}, recall list:'.format(np.mean(recall)),recall)"
   ]
  },
  {
   "cell_type": "code",
   "execution_count": 6,
   "metadata": {},
   "outputs": [
    {
     "name": "stderr",
     "output_type": "stream",
     "text": [
      "D:\\Python\\lib\\site-packages\\ipykernel_launcher.py:8: FutureWarning: Sorting because non-concatenation axis is not aligned. A future version\n",
      "of pandas will change to not sort by default.\n",
      "\n",
      "To accept the future behavior, pass 'sort=False'.\n",
      "\n",
      "To retain the current behavior and silence the warning, pass 'sort=True'.\n",
      "\n",
      "  \n"
     ]
    }
   ],
   "source": [
    "import pandas as pd\n",
    "cwwb=pd.DataFrame()\n",
    "gljy=pd.DataFrame()\n",
    "for i in range(2011,2019):\n",
    "    tmp=pd.read_excel('./财务舞弊相关数据/fraud'+str(i)+'.xlsx',sheet_name=0)\n",
    "    tmp['year']=i\n",
    "    cwwb=pd.concat([tmp,cwwb],ignore_index=True)\n",
    "    gljy=pd.concat([pd.read_excel('./关联交易双方数据/RPT'+str(i)+'.xlsx'),gljy],ignore_index=True)\n",
    "ind=pd.read_csv('./ind.csv')\n",
    "\n",
    "ind.rename({'Symbol':'code'},axis=1,inplace=True)\n",
    "ind['year']=ind['EndDate'].apply(lambda x:int(x[0:4]))\n",
    "\n",
    "newCWWB=pd.merge(cwwb,ind[['year','code','IndustryCode']],on=['year','code'],how='left')\n",
    "newCWWB.fillna('nan',inplace=True)\n",
    "\n",
    "industry=newCWWB['IndustryCode'].value_counts()\n",
    "indDict={}\n",
    "for i in range(len(industry)):\n",
    "    indDict[industry.index[i]]=i\n",
    "newCWWB['IndustryCode']=newCWWB['IndustryCode'].apply(lambda x:indDict[x])\n",
    "newCWWB.to_csv('newcwwb.csv',index=False)"
   ]
  },
  {
   "cell_type": "code",
   "execution_count": 1,
   "metadata": {},
   "outputs": [
    {
     "name": "stderr",
     "output_type": "stream",
     "text": [
      "D:\\Python\\lib\\site-packages\\ipykernel_launcher.py:196: FutureWarning: Sorting because non-concatenation axis is not aligned. A future version\n",
      "of pandas will change to not sort by default.\n",
      "\n",
      "To accept the future behavior, pass 'sort=False'.\n",
      "\n",
      "To retain the current behavior and silence the warning, pass 'sort=True'.\n",
      "\n",
      "100%|██████████| 1429/1429 [00:04<00:00, 347.52it/s]"
     ]
    },
    {
     "name": "stdout",
     "output_type": "stream",
     "text": [
      "successfully construct KG\n"
     ]
    },
    {
     "name": "stderr",
     "output_type": "stream",
     "text": [
      "\n"
     ]
    }
   ],
   "source": [
    "\n",
    "from ampligraph.datasets import load_from_csv\n",
    "import pandas as pd\n",
    "import numpy as np\n",
    "from sklearn.model_selection import train_test_split\n",
    "from myKGE import myComplex\n",
    "from tqdm import tqdm\n",
    "from sklearn.model_selection import KFold\n",
    "from sklearn import metrics,preprocessing\n",
    "from sklearn.neural_network import MLPClassifier\n",
    "from sklearn.model_selection import cross_val_score\n",
    "from sklearn.ensemble import RandomForestClassifier\n",
    "import xgboost\n",
    "import itertools\n",
    "import random\n",
    "import math\n",
    "def train_val_test_split(X,y,train_ratio,test_ratio):\n",
    "    node_num=len(y)\n",
    "    ids = [i for i in range(node_num)]\n",
    "    random.seed(55)\n",
    "    random.shuffle(ids)\n",
    "    \n",
    "    train_ids = ids[0: math.ceil(train_ratio * node_num)]\n",
    "    test_ids = ids[math.ceil(train_ratio*node_num): math.ceil((test_ratio+train_ratio)*node_num)]\n",
    "    val_ids = ids[math.ceil((test_ratio+train_ratio)*node_num):]\n",
    "    train_X,train_y= X[train_ids,:],y[train_ids]\n",
    "    test_X,test_y=X[test_ids,:],y[test_ids]\n",
    "    val_X,val_y=X[val_ids,:],y[val_ids]\n",
    "    return train_X,train_y,test_X,test_y,val_X,val_y\n",
    "def KGconstruct(cwwb,gljy,property=True):\n",
    "    ###related transaction: numberic encoder KGE(full info) + random foreast(linear schema)\n",
    "    ###KG construct\n",
    "    # normalizedCwwb=pd.DataFrame(preprocessing.minmax_scale(cwwb.values),columns=cwwb.columns)\n",
    "    # normalizedCwwb[['year','label','code']]=cwwb[['year','label','code']]\n",
    "    triples={}\n",
    "    for i in gljy.index:\n",
    "        year=gljy.loc[i,'publish_date'][0:4]\n",
    "        t=tuple([year+'company'+str(gljy.loc[i,'trading_code']),'relatedTransaction',year+'company'+str(gljy.loc[i,'rela_stockid'])])\n",
    "        if t[0]==t[2] or gljy.loc[i,'money']==0:\n",
    "            continue\n",
    "        if t not in triples.keys():\n",
    "            triples[t]=gljy.loc[i,'money']\n",
    "        else:\n",
    "            triples[t]+=gljy.loc[i,'money']\n",
    "\n",
    "    values=[(i-min(triples.values()))/(max(triples.values())-min(triples.values())) for i in triples.values()]#[0,1]\n",
    "    for i in range(len(values)):        \n",
    "        triples[list(triples.keys())[i]]=values[i]\n",
    "\n",
    "    tmpT=np.array([list(i) for i in list(triples.keys())])\n",
    "    X=[list(i) for i in list(triples.keys())]\n",
    "    for i in tqdm(range(len(tmpT))):\n",
    "        c1=tmpT[i][0]\n",
    "        for j in range(len(tmpT)):\n",
    "            \n",
    "            c2=tmpT[j][0]\n",
    "            c3=tmpT[j][2]\n",
    "            if c2!=c1 and c1[4:]==c2[4:]:\n",
    "                t=[c1,'sameCompany',c2]\n",
    "                if t not in X:\n",
    "                    values.append(1)\n",
    "                    X.append(t)\n",
    "            if c3!=c1 and c1[4:]==c3[4:]:\n",
    "                t=[c1,'sameCompany',c3]\n",
    "                if t not in X:\n",
    "                    values.append(1)\n",
    "                    X.append(t)\n",
    "    fraudTriple={}\n",
    "    fraudPropertyTriple={}\n",
    "    for i in cwwb.index:\n",
    "        year=cwwb.loc[i,'year']\n",
    "        code=cwwb.loc[i,'code']\n",
    "        for j in cwwb.columns:\n",
    "            if j in ['year','code']:\n",
    "                continue\n",
    "            elif j=='label':\n",
    "                continue\n",
    "            else:\n",
    "                if property:\n",
    "                    t=tuple([str(year)+'company'+str(code),j,j+':'+str(cwwb.loc[i,j])])\n",
    "                    fraudPropertyTriple[t]=1\n",
    "                else:\n",
    "                    continue\n",
    "\n",
    "    X+=[list(i) for i in list(fraudPropertyTriple.keys())]\n",
    "    eval_set=np.array(list(triples.keys())+list(fraudTriple.keys()))\n",
    "    X=np.array(X)\n",
    "    entity_subset=list(set(eval_set[:,0])|set(eval_set[:,2]))\n",
    "    return X,eval_set,entity_subset\n",
    "def KGE(X,eval_set,entity_subset,dim=15,epoch=2000):\n",
    "    model = myComplex(seed=555, epochs=epoch, k=dim, loss='pairwise',\n",
    "                            optimizer_params={'lr':0.01})\n",
    "    model.fit(X,numeric_entity=False)\n",
    "    from ampligraph.utils import save_model\n",
    "    save_model(model,'./numberic-encoder-rt.model')\n",
    "    return model\n",
    "\n",
    "def get_embedding(model,cwwb,with_row_feature=True):\n",
    "    if with_row_feature:\n",
    "        newCWWB=cwwb\n",
    "    else:\n",
    "        newCWWB=pd.DataFrame()\n",
    "    for i in cwwb.index:\n",
    "        try:\n",
    "            embedding=model.get_embeddings(str(cwwb.loc[i,'year'])+'company'+str(cwwb.loc[i,'code']))\n",
    "            j=0\n",
    "            for e in embedding:\n",
    "                newCWWB.loc[i,j]=e\n",
    "                j+=1\n",
    "        except:\n",
    "            print('no embedding for:',cwwb.loc[i,'code'])\n",
    "    \n",
    "    for j in range(0,len(embedding)):\n",
    "        newCWWB[j]=newCWWB[j].fillna(np.mean(newCWWB[j]))\n",
    "    newCWWB['label']=cwwb['label']\n",
    "    if with_row_feature:\n",
    "        FraudData=newCWWB.drop(['label','year'],axis=1).values\n",
    "    else:\n",
    "        FraudData=newCWWB.drop(['label'],axis=1).values\n",
    "    FraudLabl=newCWWB.loc[:,'label'].values\n",
    "    return FraudData,FraudLabl\n",
    "from sklearn.model_selection import cross_val_score\n",
    "from sklearn.ensemble import RandomForestClassifier\n",
    "def Find_Optimal_Cutoff(TPR, FPR, threshold):\n",
    "    y = TPR - FPR\n",
    "    Youden_index = np.argmax(y)  # Only the first occurrence is returned.\n",
    "    optimal_threshold = threshold[Youden_index]\n",
    "    point = [FPR[Youden_index], TPR[Youden_index]]\n",
    "    return optimal_threshold, point\n",
    "\n",
    "\n",
    "def myrandomforest(FraudData,FraudLabel,params):\n",
    "\n",
    "    #X_train, X_test, y_train, y_test= train_test_split( FraudData,FraudLabel,random_state=5)\n",
    "    X_train, y_train, X_test, y_test,X_val,y_val=train_val_test_split(FraudData,FraudLabel,train_ratio=0.7,test_ratio=0.1)\n",
    "    #print('=======estimators num={}========'.format(n))\n",
    "\n",
    "    clf = RandomForestClassifier(n_estimators=params,random_state=0,class_weight='balanced')\n",
    "    clf.fit(X_train,y_train)\n",
    "    y_prob=clf.predict_proba(X_train)\n",
    "    y_prob=y_prob[:,1]\n",
    "    trainauc=metrics.roc_auc_score(y_train,y_prob)\n",
    "    y_prob=clf.predict_proba(X_val)\n",
    "    y_prob=y_prob[:,1]\n",
    "    fpr, tpr, thresholds = metrics.roc_curve(y_val, y_prob)\n",
    "    roc_auc = metrics.auc(fpr, tpr)\n",
    "    auc=metrics.roc_auc_score(y_val,y_prob)\n",
    "    optimal_th, optimal_point = Find_Optimal_Cutoff(TPR=tpr, FPR=fpr, threshold=thresholds)\n",
    "    y_pred=[1 if i > optimal_th else 0 for i in y_prob]\n",
    "    recall=metrics.recall_score(y_val,y_pred)\n",
    "    precision=metrics.precision_score(y_val,y_pred)\n",
    "    # print('mean auc:{}, auc list:'.format(np.mean(auc)),auc)\n",
    "    # print('mean precision: {}, precision list'.format(np.mean(precision)),precision)\n",
    "    # print('mean recall:{}, recall list:'.format(np.mean(recall)),recall)\n",
    "    # predict_result.loc[i,:]=[np.mean(auc),np.mean(precision),np.mean(recall)]}\n",
    "    return trainauc,auc,recall,precision\n",
    "def myxgboost(FraudData,FraudLabel,params):\n",
    "    X_train,X_test, y_train, y_test,X_val,y_val=train_val_test_split(FraudData,FraudLabel,train_ratio=0.7,test_ratio=0.1)\n",
    "    aucList=[]\n",
    "    #print('=======estimators num={}========'.format(n))\n",
    "    Dmatrix=xgboost.DMatrix(data=X_train,label=y_train)\n",
    "    Dval=xgboost.DMatrix(data=X_val,label=y_val)\n",
    "    Dtest=xgboost.DMatrix(data=X_test,label=y_test)\n",
    "    model=xgboost.train(params,Dmatrix,num_boost_round=2000,early_stopping_rounds=100,evals=[ (Dmatrix, 'train'),(Dval, 'eval')],verbose_eval=False)\n",
    "    auc,best_iter=model.best_score, model.best_iteration\n",
    "    # y_prob=model.predict(Dtest)\n",
    "    # fpr, tpr, thresholds = metrics.roc_curve(y_test, y_prob)\n",
    "    aucList.append(auc)\n",
    "    model=xgboost.train(params,Dmatrix,num_boost_round=best_iter)\n",
    "    y_prob=model.predict(Dtest)\n",
    "    testAuc=metrics.roc_auc_score(y_test,y_prob)\n",
    "    # optimal_th, optimal_point = Find_Optimal_Cutoff(TPR=tpr, FPR=fpr, threshold=thresholds)\n",
    "    # y_pred=[1 if i > optimal_th else 0 for i in y_prob]\n",
    "    # recall.append(metrics.recall_score(y_test,y_pred))\n",
    "    # precision.append(metrics.precision_score(y_test,y_pred))\n",
    "    # print('mean precision: {}, precision list'.format(np.mean(precision)),precision)\n",
    "    # print('mean recall:{}, recall list:'.format(np.mean(recall)),recall)\n",
    "    return np.mean(aucList)\n",
    "def myNN(FraudData,FraudLabel,params):\n",
    "    X_train, y_train, X_val,y_val,X_test, y_test=train_val_test_split(FraudData,FraudLabel,train_ratio=0.7,test_ratio=0.1)\n",
    "    mlp = MLPClassifier(hidden_layer_sizes=params[0],alpha=params[1],max_iter=10000,learning_rate_init=params[2],learning_rate='adaptive',activation=params[3]) \n",
    "    mlp.fit(X_train, y_train,FPweight=params[4])\n",
    "    y_prob=mlp.predict_proba(X_test)\n",
    "    y_prob=y_prob[:,1]\n",
    "    test_auc= metrics.roc_auc_score(y_test,y_prob)\n",
    "    y_prob=mlp.predict_proba(X_train)\n",
    "    y_prob=y_prob[:,1]\n",
    "    train_auc=metrics.roc_auc_score(y_train,y_prob)\n",
    "   \n",
    "    return train_auc,test_auc\n",
    "cwwb=pd.DataFrame()\n",
    "gljy=pd.DataFrame()\n",
    "for i in range(2011,2019):\n",
    "    tmp=pd.read_excel('./财务舞弊相关数据/fraud'+str(i)+'.xlsx',sheet_name=0)\n",
    "    tmp['year']=i\n",
    "    cwwb=pd.concat([tmp,cwwb],ignore_index=True)\n",
    "    gljy=pd.concat([pd.read_excel('./关联交易双方数据/RPT'+str(i)+'.xlsx'),gljy],ignore_index=True)\n",
    "newcwwb=pd.read_csv('newcwwb.csv')\n",
    "X,eval_set,entity_subset=KGconstruct(newcwwb,gljy,property=False)\n",
    "\n",
    "print('successfully construct KG')\n",
    "#result=pd.DataFrame(columns=['lambda','gamma','eta','maxdepth','auc','KGdim'])\n",
    "\n",
    "# model=KGE(X,eval_set,entity_subset,dim=15,epoch=500)\n",
    "   \n",
    "# FraudData,FraudLabel=get_embedding(model,cwwb,with_row_feature=True)\n",
    "    "
   ]
  },
  {
   "cell_type": "code",
   "execution_count": 2,
   "metadata": {},
   "outputs": [
    {
     "name": "stdout",
     "output_type": "stream",
     "text": [
      "no embedding for: 28\n",
      "no embedding for: 156\n",
      "no embedding for: 657\n",
      "no embedding for: 835\n",
      "no embedding for: 937\n",
      "no embedding for: 2011\n",
      "no embedding for: 2049\n",
      "no embedding for: 2226\n",
      "no embedding for: 2338\n",
      "no embedding for: 2384\n",
      "no embedding for: 300083\n",
      "no embedding for: 300204\n",
      "no embedding for: 300450\n",
      "no embedding for: 600027\n",
      "no embedding for: 600177\n",
      "no embedding for: 600420\n",
      "no embedding for: 600486\n",
      "no embedding for: 600500\n",
      "no embedding for: 600570\n",
      "no embedding for: 600812\n",
      "no embedding for: 601068\n",
      "no embedding for: 603127\n",
      "no embedding for: 156\n",
      "no embedding for: 401\n",
      "no embedding for: 711\n",
      "no embedding for: 903\n",
      "no embedding for: 2011\n",
      "no embedding for: 2068\n",
      "no embedding for: 2385\n",
      "no embedding for: 300080\n",
      "no embedding for: 300087\n",
      "no embedding for: 300259\n",
      "no embedding for: 600027\n",
      "no embedding for: 600339\n",
      "no embedding for: 600570\n",
      "no embedding for: 600701\n",
      "no embedding for: 600708\n",
      "no embedding for: 600967\n",
      "no embedding for: 601666\n",
      "no embedding for: 601857\n",
      "no embedding for: 601992\n",
      "no embedding for: 59\n",
      "no embedding for: 589\n",
      "no embedding for: 637\n",
      "no embedding for: 2049\n",
      "no embedding for: 2552\n",
      "no embedding for: 600073\n",
      "no embedding for: 600597\n",
      "no embedding for: 600711\n",
      "no embedding for: 600722\n",
      "no embedding for: 401\n",
      "no embedding for: 591\n",
      "no embedding for: 665\n",
      "no embedding for: 811\n",
      "no embedding for: 300110\n",
      "no embedding for: 600098\n",
      "no embedding for: 600129\n",
      "no embedding for: 600217\n",
      "no embedding for: 600900\n",
      "no embedding for: 600963\n",
      "no embedding for: 2049\n",
      "no embedding for: 600203\n",
      "no embedding for: 600501\n",
      "no embedding for: 600725\n",
      "no embedding for: 756\n",
      "no embedding for: 2049\n",
      "no embedding for: 600363\n",
      "no embedding for: 600426\n",
      "no embedding for: 600885\n",
      "no embedding for: 600579\n",
      "no embedding for: 2011\n",
      "no embedding for: 2226\n",
      "no embedding for: 600601\n",
      "no embedding for: 600730\n"
     ]
    }
   ],
   "source": [
    "model=KGE(X,eval_set,entity_subset,dim=15,epoch=1000)\n",
    "   \n",
    "FraudData,FraudLabel=get_embedding(model,cwwb,with_row_feature=True)"
   ]
  },
  {
   "cell_type": "code",
   "execution_count": 7,
   "metadata": {},
   "outputs": [],
   "source": [
    "from tqdm import tqdm\n",
    "import logging\n",
    "class experiment_protocal():\n",
    "    def __init__(self,params_dict,model,exp_name,triples=[]):\n",
    "        self.parmas_dict=params_dict\n",
    "        self.model=model\n",
    "        self.exp_name=exp_name\n",
    "        self.triples=triples\n",
    "        self.logger = logging.getlogger(__name__)\n",
    "        self.logger.setLevel(level = logging.INFO)\n",
    "        handler = logging.FileHandler('./log/'+self.exp_name+'.txt')\n",
    "        handler.setLevel(logging.INFO)\n",
    "        formatter = logging.Formatter('%(asctime)s - %(name)s - %(levelname)s - %(message)s')\n",
    "        handler.setFormatter(formatter)\n",
    "        self.logger.addHandler(handler)\n",
    "        self.logger.info(\"Start print log\")\n",
    "    def cv_train_test_split(self,X,y,cv_num,seed=5):\n",
    "        kf=KFold(n_splits=cv_num,shuffle=True,random_state=seed)\n",
    "        k=0\n",
    "        return kf.split(X,y)\n",
    "    def select_best_model(self,X,y,cv_num=5,seed=5):\n",
    "        result=[]\n",
    "        k=0\n",
    "        for params in tqdm(self.parmas_dict):\n",
    "            if self.model=='RF':\n",
    "                clf = RandomForestClassifier(n_estimators=params.get('n_estimators',100),random_state=0,class_weight='balanced',max_depth=params.get('max_depth',10),\\\n",
    "                    min_samples_leaf=params.get('min_sample_leaf',1))\n",
    "                kf=KFold(n_splits=cv_num,random_state=seed,shuffle=True)\n",
    "                auc=[]\n",
    "                for train_index, test_index in kf.split(X,y):\n",
    "                    #print(\"TRAIN:\", train_index, \"TEST:\", test_index)\n",
    "                    X_train, X_test = X[train_index], X[test_index]\n",
    "                    y_train, y_test = y[train_index], y[test_index]\n",
    "                    #n =130\n",
    "                    clf.fit(X_train,y_train)\n",
    "                    y_prob=clf.predict_proba(X_test)\n",
    "                    y_prob=y_prob[:,1]\n",
    "                    auc.append(metrics.roc_auc_score(y_test,y_prob))\n",
    "                result.append(np.mean(auc))\n",
    "            elif self.model=='XGBoost':\n",
    "                kf=KFold(n_splits=cv_num,random_state=seed,shuffle=True)\n",
    "                auc=[]\n",
    "                for train_index, test_index in kf.split(X,y):\n",
    "                    #print(\"TRAIN:\", train_index, \"TEST:\", test_index)\n",
    "                    X_train, X_test = X[train_index], X[test_index]\n",
    "                    y_train, y_test = y[train_index], y[test_index]\n",
    "                    Dtrain=xgboost.DMatrix(X_train,y_train)\n",
    "                    Dval=xgboost.DMatrix(X_test,y_test)\n",
    "                    model=xgboost.train(params,Dtrain,num_boost_round=2000,early_stopping_rounds=100,evals=[ (Dtrain, 'train'),(Dval, 'eval')],verbose_eval=False)\n",
    "                    y_prob=model.predict(Dval)\n",
    "                    auc.append(metrics.roc_auc_score(y_test,y_prob))\n",
    "                result.append(np.mean(auc))\n",
    "        return self.parmas_dict[np.argmax(result)],max(result)\n",
    "    def run_model(self,X_train,y_train,X_test,y_test,params):\n",
    "        if self.model=='RF':\n",
    "            clf = RandomForestClassifier(n_estimators=params.get('n_estimators',100),random_state=0,class_weight='balanced',max_depth=params.get('max_depth',10),\\\n",
    "                    min_samples_leaf=params.get('min_sample_leaf',1))\n",
    "            clf.fit(X_train,y_train)\n",
    "            y_prob=clf.predict_proba(X_test)\n",
    "            y_prob=y_prob[:,1]\n",
    "            testauc=(metrics.roc_auc_score(y_test,y_prob))\n",
    "            y_prob=clf.predict_proba(X_train)\n",
    "            y_prob=y_prob[:,1]\n",
    "            trainauc=(metrics.roc_auc_score(y_train,y_prob))\n",
    "            return trainauc,testauc\n",
    "        elif self.model=='XGBoost':\n",
    "            Dtrain=xgboost.DMatrix(X_train,y_train)\n",
    "            Dval=xgboost.DMatrix(X_test,y_test)\n",
    "            model=xgboost.train(params,Dtrain,num_boost_round=2000,early_stopping_rounds=100,evals=[ (Dtrain, 'train'),(Dval, 'eval')],verbose_eval=False)\n",
    "            y_prob=model.predict(Dval)\n",
    "            testauc=metrics.roc_auc_score(y_test,y_prob)\n",
    "            y_prob=model.predict(Dtrain)\n",
    "            trainauc=metrics.roc_auc_score(y_train,y_prob)\n",
    "            return trainauc,testauc\n",
    "        \n",
    "    def get_embedding(self,model,cwwb,with_row_feature=True):\n",
    "        if with_row_feature:\n",
    "            newCWWB=cwwb\n",
    "        else:\n",
    "            newCWWB=pd.DataFrame()\n",
    "        for i in cwwb.index:\n",
    "            try:\n",
    "                embedding=model.get_embeddings(str(cwwb.loc[i,'year'])+'company'+str(cwwb.loc[i,'code']))\n",
    "                j=0\n",
    "                for e in embedding:\n",
    "                    newCWWB.loc[i,j]=e\n",
    "                    j+=1\n",
    "            except:\n",
    "                print('no embedding for:',cwwb.loc[i,'code'])\n",
    "        \n",
    "        for j in range(0,len(embedding)):\n",
    "            newCWWB[j]=newCWWB[j].fillna(np.mean(newCWWB[j]))\n",
    "        newCWWB['label']=cwwb['label']\n",
    "        if with_row_feature:\n",
    "            FraudData=newCWWB.drop(['label','year'],axis=1).values\n",
    "        else:\n",
    "            FraudData=newCWWB.drop(['label'],axis=1).values\n",
    "        FraudLabl=newCWWB.loc[:,'label'].values\n",
    "        return FraudData,FraudLabl\n",
    "    def prepareKGE(self,X,embedding_dim,epoch):\n",
    "        emb=[]\n",
    "        emb_params=[]\n",
    "        for d in embedding_dim:\n",
    "            for e in epoch:\n",
    "                emb_params.append([d,e])\n",
    "                model = myComplex(seed=555, epochs=e, k=d, loss='pairwise',\n",
    "                            optimizer_params={'lr':0.01})\n",
    "                model.fit(self.triples,numeric_entity=True)\n",
    "                emb.append(self.get_embedding(model,X,with_row_feature=True))\n",
    "        return emb,emb_params\n",
    "    def run(self,X,y,cv_num):\n",
    "        \n",
    "        split=self.cv_train_test_split(X,y,cv_num)\n",
    "        test_re=[]\n",
    "        val_re=[]\n",
    "        k=0\n",
    "        for train_id,test_id in split:\n",
    "            print('train test split {}'.format(k))\n",
    "            self.logger.info('train test split {}'.format(k))\n",
    "            train_X,test_X,train_y,test_y=X[train_id],X[test_id],y[train_id],y[test_id]\n",
    "            best_params,best_auc=self.select_best_model(train_X,train_y)\n",
    "            print('best params:{},bets auc on val set:{}'.format(best_params,best_auc))\n",
    "            self.logger.info('best params:{},bets auc on val set:{}'.format(best_params,best_auc))\n",
    "            trainauc,testauc=self.run_model(train_X,train_y,test_X,test_y,best_params)\n",
    "            print('test auc:{}'.format(testauc))\n",
    "            self.logger.info('test auc:{}'.format(testauc))\n",
    "            test_re.append(testauc)\n",
    "            val_re.append(best_auc)\n",
    "            k+=1\n",
    "        self.logger.info('validation set result:{}'.format(val_re))\n",
    "        self.logger.info('test set result:{}'.format(test_re))\n",
    "        return test_re,val_re"
   ]
  },
  {
   "cell_type": "markdown",
   "metadata": {},
   "source": [
    "simple KGE + concatenate featrues\n",
    "\n",
    "XGBoost [0.7076839434577745,\n",
    " 0.6395730706075534,\n",
    " 0.6188081936685289,\n",
    " 0.7081689029202841,\n",
    " 0.7511559478772594,\n",
    " 0.7141176470588235,\n",
    " 0.6265917602996255,\n",
    " 0.7490079365079365,\n",
    " 0.7202247191011236,\n",
    " 0.7253869969040248]\n",
    "**mean:0.69**\n",
    "\n",
    " RF \n",
    "[0.7200072490032621,\n",
    " 0.6980295566502462,\n",
    " 0.7035381750465549,\n",
    " 0.7093528018942383,\n",
    " 0.7461118116855822,\n",
    " 0.7510924369747899,\n",
    " 0.704119850187266,\n",
    " 0.8099206349206349,\n",
    " 0.7524344569288389,\n",
    " 0.7829721362229103]\n",
    " **mean 0.738**"
   ]
  },
  {
   "cell_type": "code",
   "execution_count": 10,
   "metadata": {},
   "outputs": [
    {
     "name": "stderr",
     "output_type": "stream",
     "text": [
      "144it [00:00, ?it/s]\n",
      "  0%|          | 0/144 [00:00<?, ?it/s]"
     ]
    },
    {
     "name": "stdout",
     "output_type": "stream",
     "text": [
      "train test split 0\n"
     ]
    },
    {
     "name": "stderr",
     "output_type": "stream",
     "text": [
      "100%|██████████| 144/144 [24:56<00:00, 10.39s/it]\n"
     ]
    },
    {
     "name": "stdout",
     "output_type": "stream",
     "text": [
      "best params:{'objective': 'binary:logistic', 'eval_metric': 'auc', 'lambda': 0.1, 'alpha': 0.01, 'max_depth': 7, 'scale_pos_weight': 1.5, 'eta': 0.1},bets auc on val set:0.707610203180324\n"
     ]
    },
    {
     "name": "stderr",
     "output_type": "stream",
     "text": [
      "  0%|          | 0/144 [00:00<?, ?it/s]"
     ]
    },
    {
     "name": "stdout",
     "output_type": "stream",
     "text": [
      "test auc:0.7076839434577745\n",
      "train test split 1\n"
     ]
    },
    {
     "name": "stderr",
     "output_type": "stream",
     "text": [
      "100%|██████████| 144/144 [27:57<00:00, 11.65s/it]\n"
     ]
    },
    {
     "name": "stdout",
     "output_type": "stream",
     "text": [
      "best params:{'objective': 'binary:logistic', 'eval_metric': 'auc', 'lambda': 0.01, 'alpha': 0.01, 'max_depth': 7, 'scale_pos_weight': 1, 'eta': 0.01},bets auc on val set:0.72823078655699\n"
     ]
    },
    {
     "name": "stderr",
     "output_type": "stream",
     "text": [
      "  0%|          | 0/144 [00:00<?, ?it/s]"
     ]
    },
    {
     "name": "stdout",
     "output_type": "stream",
     "text": [
      "test auc:0.6395730706075534\n",
      "train test split 2\n"
     ]
    },
    {
     "name": "stderr",
     "output_type": "stream",
     "text": [
      "100%|██████████| 144/144 [27:57<00:00, 11.65s/it]\n"
     ]
    },
    {
     "name": "stdout",
     "output_type": "stream",
     "text": [
      "best params:{'objective': 'binary:logistic', 'eval_metric': 'auc', 'lambda': 1, 'alpha': 0, 'max_depth': 7, 'scale_pos_weight': 1.5, 'eta': 0.1},bets auc on val set:0.7253460909847095\n"
     ]
    },
    {
     "name": "stderr",
     "output_type": "stream",
     "text": [
      "  0%|          | 0/144 [00:00<?, ?it/s]"
     ]
    },
    {
     "name": "stdout",
     "output_type": "stream",
     "text": [
      "test auc:0.6188081936685289\n",
      "train test split 3\n"
     ]
    },
    {
     "name": "stderr",
     "output_type": "stream",
     "text": [
      "100%|██████████| 144/144 [23:36<00:00,  9.84s/it]\n"
     ]
    },
    {
     "name": "stdout",
     "output_type": "stream",
     "text": [
      "best params:{'objective': 'binary:logistic', 'eval_metric': 'auc', 'lambda': 0.1, 'alpha': 0.01, 'max_depth': 7, 'scale_pos_weight': 1.5, 'eta': 0.1},bets auc on val set:0.7127566461127699\n"
     ]
    },
    {
     "name": "stderr",
     "output_type": "stream",
     "text": [
      "  0%|          | 0/144 [00:00<?, ?it/s]"
     ]
    },
    {
     "name": "stdout",
     "output_type": "stream",
     "text": [
      "test auc:0.7081689029202841\n",
      "train test split 4\n"
     ]
    },
    {
     "name": "stderr",
     "output_type": "stream",
     "text": [
      "100%|██████████| 144/144 [27:21<00:00, 11.40s/it]\n"
     ]
    },
    {
     "name": "stdout",
     "output_type": "stream",
     "text": [
      "best params:{'objective': 'binary:logistic', 'eval_metric': 'auc', 'lambda': 1, 'alpha': 0.01, 'max_depth': 7, 'scale_pos_weight': 1.75, 'eta': 0.1},bets auc on val set:0.7122923899843447\n"
     ]
    },
    {
     "name": "stderr",
     "output_type": "stream",
     "text": [
      "  0%|          | 0/144 [00:00<?, ?it/s]"
     ]
    },
    {
     "name": "stdout",
     "output_type": "stream",
     "text": [
      "test auc:0.7511559478772594\n",
      "train test split 5\n"
     ]
    },
    {
     "name": "stderr",
     "output_type": "stream",
     "text": [
      "100%|██████████| 144/144 [29:42<00:00, 12.38s/it]\n"
     ]
    },
    {
     "name": "stdout",
     "output_type": "stream",
     "text": [
      "best params:{'objective': 'binary:logistic', 'eval_metric': 'auc', 'lambda': 1, 'alpha': 0, 'max_depth': 7, 'scale_pos_weight': 1, 'eta': 0.1},bets auc on val set:0.705568836364163\n"
     ]
    },
    {
     "name": "stderr",
     "output_type": "stream",
     "text": [
      "  0%|          | 0/144 [00:00<?, ?it/s]"
     ]
    },
    {
     "name": "stdout",
     "output_type": "stream",
     "text": [
      "test auc:0.7141176470588235\n",
      "train test split 6\n"
     ]
    },
    {
     "name": "stderr",
     "output_type": "stream",
     "text": [
      "100%|██████████| 144/144 [26:53<00:00, 11.21s/it]\n"
     ]
    },
    {
     "name": "stdout",
     "output_type": "stream",
     "text": [
      "best params:{'objective': 'binary:logistic', 'eval_metric': 'auc', 'lambda': 0.1, 'alpha': 0.01, 'max_depth': 7, 'scale_pos_weight': 2.0, 'eta': 0.1},bets auc on val set:0.7190541283092531\n"
     ]
    },
    {
     "name": "stderr",
     "output_type": "stream",
     "text": [
      "  0%|          | 0/144 [00:00<?, ?it/s]"
     ]
    },
    {
     "name": "stdout",
     "output_type": "stream",
     "text": [
      "test auc:0.6265917602996255\n",
      "train test split 7\n"
     ]
    },
    {
     "name": "stderr",
     "output_type": "stream",
     "text": [
      "100%|██████████| 144/144 [24:29<00:00, 10.20s/it]\n"
     ]
    },
    {
     "name": "stdout",
     "output_type": "stream",
     "text": [
      "best params:{'objective': 'binary:logistic', 'eval_metric': 'auc', 'lambda': 1, 'alpha': 0.01, 'max_depth': 3, 'scale_pos_weight': 2.0, 'eta': 0.01},bets auc on val set:0.699042087622408\n"
     ]
    },
    {
     "name": "stderr",
     "output_type": "stream",
     "text": [
      "  0%|          | 0/144 [00:00<?, ?it/s]"
     ]
    },
    {
     "name": "stdout",
     "output_type": "stream",
     "text": [
      "test auc:0.7490079365079365\n",
      "train test split 8\n"
     ]
    },
    {
     "name": "stderr",
     "output_type": "stream",
     "text": [
      "100%|██████████| 144/144 [28:23<00:00, 11.83s/it]\n"
     ]
    },
    {
     "name": "stdout",
     "output_type": "stream",
     "text": [
      "best params:{'objective': 'binary:logistic', 'eval_metric': 'auc', 'lambda': 0.1, 'alpha': 0.01, 'max_depth': 7, 'scale_pos_weight': 1.75, 'eta': 0.1},bets auc on val set:0.7027173559248563\n"
     ]
    },
    {
     "name": "stderr",
     "output_type": "stream",
     "text": [
      "  0%|          | 0/144 [00:00<?, ?it/s]"
     ]
    },
    {
     "name": "stdout",
     "output_type": "stream",
     "text": [
      "test auc:0.7202247191011236\n",
      "train test split 9\n"
     ]
    },
    {
     "name": "stderr",
     "output_type": "stream",
     "text": [
      "100%|██████████| 144/144 [19:13<00:00,  8.01s/it]\n"
     ]
    },
    {
     "name": "stdout",
     "output_type": "stream",
     "text": [
      "best params:{'objective': 'binary:logistic', 'eval_metric': 'auc', 'lambda': 0.1, 'alpha': 0, 'max_depth': 3, 'scale_pos_weight': 1.75, 'eta': 0.01},bets auc on val set:0.6824757005600575\n",
      "test auc:0.7253869969040248\n"
     ]
    }
   ],
   "source": [
    "# simple KGE + concatenate featrues\n",
    "lambdaList=[0.01,0.1,1]\n",
    "gammaList=[0.01,0]\n",
    "maxdepthList=[3,5,7]\n",
    "pos_weight=[1,1.5,1.75,2.0]\n",
    "#sub_sample=[0.5,0.7,0.9]\n",
    "eta=[0.1,0.01]\n",
    "names=['lambda','alpha','max_depth','scale_pos_weight','eta']\n",
    "iters=itertools.product(lambdaList,gammaList,maxdepthList,pos_weight,eta)\n",
    "\n",
    "params_dict=[]\n",
    "for comb in tqdm(iters) :\n",
    "    #print('===========training {}th comb=========='.format(k))\n",
    "    params = {\"objective\": \"binary:logistic\", \"eval_metric\":'auc'}\n",
    "    for i in range(len(names)):\n",
    "        params[names[i]]=comb[i]\n",
    "    params_dict.append(params)\n",
    "exp=experiment_protocal(params_dict=params_dict,model='XGBoost')\n",
    "re=exp.run(FraudData,FraudLabel,10)"
   ]
  },
  {
   "cell_type": "code",
   "execution_count": 11,
   "metadata": {},
   "outputs": [
    {
     "name": "stderr",
     "output_type": "stream",
     "text": [
      "  0%|          | 0/135 [00:00<?, ?it/s]"
     ]
    },
    {
     "name": "stdout",
     "output_type": "stream",
     "text": [
      "total len of params comb:135\n",
      "train test split 0\n"
     ]
    },
    {
     "name": "stderr",
     "output_type": "stream",
     "text": [
      "100%|██████████| 135/135 [27:52<00:00, 12.39s/it]\n"
     ]
    },
    {
     "name": "stdout",
     "output_type": "stream",
     "text": [
      "best params:{'n_estimators': 1400, 'max_depth': 10, 'min_sample_leaf': 5},bets auc on val set:0.724700511072448\n"
     ]
    },
    {
     "name": "stderr",
     "output_type": "stream",
     "text": [
      "  0%|          | 0/135 [00:00<?, ?it/s]"
     ]
    },
    {
     "name": "stdout",
     "output_type": "stream",
     "text": [
      "test auc:0.7200072490032621\n",
      "train test split 1\n"
     ]
    },
    {
     "name": "stderr",
     "output_type": "stream",
     "text": [
      "100%|██████████| 135/135 [27:44<00:00, 12.33s/it]\n"
     ]
    },
    {
     "name": "stdout",
     "output_type": "stream",
     "text": [
      "best params:{'n_estimators': 1100, 'max_depth': 10, 'min_sample_leaf': 3},bets auc on val set:0.7393281882210412\n"
     ]
    },
    {
     "name": "stderr",
     "output_type": "stream",
     "text": [
      "  0%|          | 0/135 [00:00<?, ?it/s]"
     ]
    },
    {
     "name": "stdout",
     "output_type": "stream",
     "text": [
      "test auc:0.6980295566502462\n",
      "train test split 2\n"
     ]
    },
    {
     "name": "stderr",
     "output_type": "stream",
     "text": [
      "100%|██████████| 135/135 [27:53<00:00, 12.40s/it]\n"
     ]
    },
    {
     "name": "stdout",
     "output_type": "stream",
     "text": [
      "best params:{'n_estimators': 500, 'max_depth': 10, 'min_sample_leaf': 5},bets auc on val set:0.7212679094459628\n"
     ]
    },
    {
     "name": "stderr",
     "output_type": "stream",
     "text": [
      "  0%|          | 0/135 [00:00<?, ?it/s]"
     ]
    },
    {
     "name": "stdout",
     "output_type": "stream",
     "text": [
      "test auc:0.7035381750465549\n",
      "train test split 3\n"
     ]
    },
    {
     "name": "stderr",
     "output_type": "stream",
     "text": [
      "100%|██████████| 135/135 [27:40<00:00, 12.30s/it]\n"
     ]
    },
    {
     "name": "stdout",
     "output_type": "stream",
     "text": [
      "best params:{'n_estimators': 200, 'max_depth': 10, 'min_sample_leaf': 5},bets auc on val set:0.7259514921187022\n"
     ]
    },
    {
     "name": "stderr",
     "output_type": "stream",
     "text": [
      "  0%|          | 0/135 [00:00<?, ?it/s]"
     ]
    },
    {
     "name": "stdout",
     "output_type": "stream",
     "text": [
      "test auc:0.7093528018942383\n",
      "train test split 4\n"
     ]
    },
    {
     "name": "stderr",
     "output_type": "stream",
     "text": [
      "100%|██████████| 135/135 [27:50<00:00, 12.37s/it]\n"
     ]
    },
    {
     "name": "stdout",
     "output_type": "stream",
     "text": [
      "best params:{'n_estimators': 600, 'max_depth': 10, 'min_sample_leaf': 3},bets auc on val set:0.7258595535717783\n"
     ]
    },
    {
     "name": "stderr",
     "output_type": "stream",
     "text": [
      "  0%|          | 0/135 [00:00<?, ?it/s]"
     ]
    },
    {
     "name": "stdout",
     "output_type": "stream",
     "text": [
      "test auc:0.7461118116855822\n",
      "train test split 5\n"
     ]
    },
    {
     "name": "stderr",
     "output_type": "stream",
     "text": [
      "100%|██████████| 135/135 [27:44<00:00, 12.33s/it]\n"
     ]
    },
    {
     "name": "stdout",
     "output_type": "stream",
     "text": [
      "best params:{'n_estimators': 1400, 'max_depth': 10, 'min_sample_leaf': 3},bets auc on val set:0.7191997311388088\n"
     ]
    },
    {
     "name": "stderr",
     "output_type": "stream",
     "text": [
      "  0%|          | 0/135 [00:00<?, ?it/s]"
     ]
    },
    {
     "name": "stdout",
     "output_type": "stream",
     "text": [
      "test auc:0.7510924369747899\n",
      "train test split 6\n"
     ]
    },
    {
     "name": "stderr",
     "output_type": "stream",
     "text": [
      "100%|██████████| 135/135 [27:45<00:00, 12.34s/it]\n"
     ]
    },
    {
     "name": "stdout",
     "output_type": "stream",
     "text": [
      "best params:{'n_estimators': 1100, 'max_depth': 10, 'min_sample_leaf': 3},bets auc on val set:0.7323832950756677\n"
     ]
    },
    {
     "name": "stderr",
     "output_type": "stream",
     "text": [
      "  0%|          | 0/135 [00:00<?, ?it/s]"
     ]
    },
    {
     "name": "stdout",
     "output_type": "stream",
     "text": [
      "test auc:0.704119850187266\n",
      "train test split 7\n"
     ]
    },
    {
     "name": "stderr",
     "output_type": "stream",
     "text": [
      "100%|██████████| 135/135 [27:52<00:00, 12.39s/it]\n"
     ]
    },
    {
     "name": "stdout",
     "output_type": "stream",
     "text": [
      "best params:{'n_estimators': 1400, 'max_depth': 10, 'min_sample_leaf': 3},bets auc on val set:0.7065694954526685\n"
     ]
    },
    {
     "name": "stderr",
     "output_type": "stream",
     "text": [
      "  0%|          | 0/135 [00:00<?, ?it/s]"
     ]
    },
    {
     "name": "stdout",
     "output_type": "stream",
     "text": [
      "test auc:0.8099206349206349\n",
      "train test split 8\n"
     ]
    },
    {
     "name": "stderr",
     "output_type": "stream",
     "text": [
      "100%|██████████| 135/135 [27:44<00:00, 12.33s/it]\n"
     ]
    },
    {
     "name": "stdout",
     "output_type": "stream",
     "text": [
      "best params:{'n_estimators': 1500, 'max_depth': 10, 'min_sample_leaf': 5},bets auc on val set:0.7118674462230279\n"
     ]
    },
    {
     "name": "stderr",
     "output_type": "stream",
     "text": [
      "  0%|          | 0/135 [00:00<?, ?it/s]"
     ]
    },
    {
     "name": "stdout",
     "output_type": "stream",
     "text": [
      "test auc:0.7524344569288389\n",
      "train test split 9\n"
     ]
    },
    {
     "name": "stderr",
     "output_type": "stream",
     "text": [
      "100%|██████████| 135/135 [28:05<00:00, 12.49s/it]\n"
     ]
    },
    {
     "name": "stdout",
     "output_type": "stream",
     "text": [
      "best params:{'n_estimators': 1100, 'max_depth': 10, 'min_sample_leaf': 5},bets auc on val set:0.7022314719998379\n",
      "test auc:0.7829721362229103\n"
     ]
    }
   ],
   "source": [
    "###baseline\n",
    "params_dict=[]\n",
    "ne=list(range(100,1600,100))\n",
    "max_depth=[3,5,10]\n",
    "min_leaf=[1,3,5]\n",
    "iters=itertools.product(ne,max_depth,min_leaf)\n",
    "for comb in iters:\n",
    "    params_dict.append({'n_estimators':comb[0],'max_depth':comb[1],'min_sample_leaf':comb[2]})\n",
    "print('total len of params comb:{}'.format(len(params_dict)))\n",
    "exp=experiment_protocal(params_dict=params_dict,model='RF')\n",
    "re2=exp.run(FraudData,FraudLabel,10)\n",
    "\n",
    "    #print('train auc:{}, val auc:{}'.format(trainauc,valauc))\n",
    "# _,_,testauc=myrandomforest(baseFraudData,baseFraudLabel,[(np.argmax(re)+1)*100,10,5],test=True)\n",
    "# print('best val auc:{},test auc:{}'.format(max(re),testauc))\n"
   ]
  },
  {
   "cell_type": "markdown",
   "metadata": {},
   "source": []
  },
  {
   "cell_type": "markdown",
   "metadata": {},
   "source": [
    "baseline RF\n",
    "\n",
    "0.7024284160927872, 0.6954022988505747, 0.7132216014897579,0.6752170481452249，0.7507356031946196, 0.7052100840336134,0.6653558052434457,0.7962301587301588,0.7275280898876405,0.7478328173374613\n",
    "**mean auc:0.7179**\n",
    "\n",
    "baseline xgboost\n",
    "\n",
    "0.6640086988039146,0.6334975369458127,0.6467411545623837,0.6438437253354381,0.730348886086591,0.6796638655462184,0.6578651685393259,0.7517857142857143,0.6790262172284645,0.7404024767801858\n",
    "**mean auc:0.6827**\n",
    "\n"
   ]
  },
  {
   "cell_type": "code",
   "execution_count": 55,
   "metadata": {},
   "outputs": [
    {
     "name": "stderr",
     "output_type": "stream",
     "text": [
      "54it [00:00, ?it/s]\n",
      "  0%|          | 0/54 [00:00<?, ?it/s]"
     ]
    },
    {
     "name": "stdout",
     "output_type": "stream",
     "text": [
      "total combs:135\n",
      "train test split 0\n"
     ]
    },
    {
     "name": "stderr",
     "output_type": "stream",
     "text": [
      "100%|██████████| 54/54 [01:01<00:00,  1.13s/it]\n"
     ]
    },
    {
     "name": "stdout",
     "output_type": "stream",
     "text": [
      "best params:{'objective': 'binary:logistic', 'eval_metric': 'auc', 'lambda': 0.01, 'alpha': 0.01, 'max_depth': 7, 'scale_pos_weight': 1},bets auc on val set:0.6822868787553972\n"
     ]
    },
    {
     "name": "stderr",
     "output_type": "stream",
     "text": [
      "  0%|          | 0/54 [00:00<?, ?it/s]"
     ]
    },
    {
     "name": "stdout",
     "output_type": "stream",
     "text": [
      "test auc:0.6640086988039146\n",
      "train test split 1\n"
     ]
    },
    {
     "name": "stderr",
     "output_type": "stream",
     "text": [
      "100%|██████████| 54/54 [01:00<00:00,  1.13s/it]\n"
     ]
    },
    {
     "name": "stdout",
     "output_type": "stream",
     "text": [
      "best params:{'objective': 'binary:logistic', 'eval_metric': 'auc', 'lambda': 0.01, 'alpha': 0.01, 'max_depth': 7, 'scale_pos_weight': 1},bets auc on val set:0.6808469534601135\n"
     ]
    },
    {
     "name": "stderr",
     "output_type": "stream",
     "text": [
      "  0%|          | 0/54 [00:00<?, ?it/s]"
     ]
    },
    {
     "name": "stdout",
     "output_type": "stream",
     "text": [
      "test auc:0.6334975369458127\n",
      "train test split 2\n"
     ]
    },
    {
     "name": "stderr",
     "output_type": "stream",
     "text": [
      "100%|██████████| 54/54 [01:01<00:00,  1.13s/it]\n"
     ]
    },
    {
     "name": "stdout",
     "output_type": "stream",
     "text": [
      "best params:{'objective': 'binary:logistic', 'eval_metric': 'auc', 'lambda': 0.01, 'alpha': 0.01, 'max_depth': 5, 'scale_pos_weight': 1},bets auc on val set:0.6681198443991837\n"
     ]
    },
    {
     "name": "stderr",
     "output_type": "stream",
     "text": [
      "  0%|          | 0/54 [00:00<?, ?it/s]"
     ]
    },
    {
     "name": "stdout",
     "output_type": "stream",
     "text": [
      "test auc:0.6467411545623837\n",
      "train test split 3\n"
     ]
    },
    {
     "name": "stderr",
     "output_type": "stream",
     "text": [
      "100%|██████████| 54/54 [01:00<00:00,  1.13s/it]\n"
     ]
    },
    {
     "name": "stdout",
     "output_type": "stream",
     "text": [
      "best params:{'objective': 'binary:logistic', 'eval_metric': 'auc', 'lambda': 0.01, 'alpha': 0.01, 'max_depth': 6, 'scale_pos_weight': 1},bets auc on val set:0.6788408641077617\n"
     ]
    },
    {
     "name": "stderr",
     "output_type": "stream",
     "text": [
      "  0%|          | 0/54 [00:00<?, ?it/s]"
     ]
    },
    {
     "name": "stdout",
     "output_type": "stream",
     "text": [
      "test auc:0.6438437253354381\n",
      "train test split 4\n"
     ]
    },
    {
     "name": "stderr",
     "output_type": "stream",
     "text": [
      "100%|██████████| 54/54 [01:00<00:00,  1.12s/it]\n"
     ]
    },
    {
     "name": "stdout",
     "output_type": "stream",
     "text": [
      "best params:{'objective': 'binary:logistic', 'eval_metric': 'auc', 'lambda': 0.01, 'alpha': 0.01, 'max_depth': 7, 'scale_pos_weight': 1},bets auc on val set:0.6927269143420006\n"
     ]
    },
    {
     "name": "stderr",
     "output_type": "stream",
     "text": [
      "  0%|          | 0/54 [00:00<?, ?it/s]"
     ]
    },
    {
     "name": "stdout",
     "output_type": "stream",
     "text": [
      "test auc:0.730348886086591\n",
      "train test split 5\n"
     ]
    },
    {
     "name": "stderr",
     "output_type": "stream",
     "text": [
      "100%|██████████| 54/54 [01:00<00:00,  1.12s/it]\n"
     ]
    },
    {
     "name": "stdout",
     "output_type": "stream",
     "text": [
      "best params:{'objective': 'binary:logistic', 'eval_metric': 'auc', 'lambda': 0.01, 'alpha': 0.01, 'max_depth': 6, 'scale_pos_weight': 1},bets auc on val set:0.6871462741157934\n"
     ]
    },
    {
     "name": "stderr",
     "output_type": "stream",
     "text": [
      "  0%|          | 0/54 [00:00<?, ?it/s]"
     ]
    },
    {
     "name": "stdout",
     "output_type": "stream",
     "text": [
      "test auc:0.6796638655462184\n",
      "train test split 6\n"
     ]
    },
    {
     "name": "stderr",
     "output_type": "stream",
     "text": [
      "100%|██████████| 54/54 [01:00<00:00,  1.13s/it]\n"
     ]
    },
    {
     "name": "stdout",
     "output_type": "stream",
     "text": [
      "best params:{'objective': 'binary:logistic', 'eval_metric': 'auc', 'lambda': 0.01, 'alpha': 0.01, 'max_depth': 7, 'scale_pos_weight': 1},bets auc on val set:0.6924674455851382\n"
     ]
    },
    {
     "name": "stderr",
     "output_type": "stream",
     "text": [
      "  0%|          | 0/54 [00:00<?, ?it/s]"
     ]
    },
    {
     "name": "stdout",
     "output_type": "stream",
     "text": [
      "test auc:0.6578651685393259\n",
      "train test split 7\n"
     ]
    },
    {
     "name": "stderr",
     "output_type": "stream",
     "text": [
      "100%|██████████| 54/54 [01:00<00:00,  1.12s/it]\n"
     ]
    },
    {
     "name": "stdout",
     "output_type": "stream",
     "text": [
      "best params:{'objective': 'binary:logistic', 'eval_metric': 'auc', 'lambda': 0.01, 'alpha': 0.01, 'max_depth': 7, 'scale_pos_weight': 1},bets auc on val set:0.6769600279012197\n"
     ]
    },
    {
     "name": "stderr",
     "output_type": "stream",
     "text": [
      "  0%|          | 0/54 [00:00<?, ?it/s]"
     ]
    },
    {
     "name": "stdout",
     "output_type": "stream",
     "text": [
      "test auc:0.7517857142857143\n",
      "train test split 8\n"
     ]
    },
    {
     "name": "stderr",
     "output_type": "stream",
     "text": [
      "100%|██████████| 54/54 [01:00<00:00,  1.12s/it]\n"
     ]
    },
    {
     "name": "stdout",
     "output_type": "stream",
     "text": [
      "best params:{'objective': 'binary:logistic', 'eval_metric': 'auc', 'lambda': 0.01, 'alpha': 0.01, 'max_depth': 7, 'scale_pos_weight': 1},bets auc on val set:0.6736017114782117\n"
     ]
    },
    {
     "name": "stderr",
     "output_type": "stream",
     "text": [
      "  0%|          | 0/54 [00:00<?, ?it/s]"
     ]
    },
    {
     "name": "stdout",
     "output_type": "stream",
     "text": [
      "test auc:0.6790262172284645\n",
      "train test split 9\n"
     ]
    },
    {
     "name": "stderr",
     "output_type": "stream",
     "text": [
      "100%|██████████| 54/54 [01:00<00:00,  1.12s/it]\n"
     ]
    },
    {
     "name": "stdout",
     "output_type": "stream",
     "text": [
      "best params:{'objective': 'binary:logistic', 'eval_metric': 'auc', 'lambda': 0.01, 'alpha': 0.01, 'max_depth': 7, 'scale_pos_weight': 1},bets auc on val set:0.6687962548785775\n",
      "test auc:0.7404024767801858\n"
     ]
    }
   ],
   "source": [
    "# aucList=[]\n",
    "baseFraudData=cwwb.iloc[:,1:15].values\n",
    "baseFraudLabel=cwwb.loc[:,'label'].values\n",
    "lambdaList=[0.01,0.1,1]\n",
    "gammaList=[0.01,0]\n",
    "maxdepthList=[5,6,7]\n",
    "pos_weight=[1,1.5,2.0]\n",
    "names=['lambda','alpha','max_depth','scale_pos_weight']\n",
    "iters=itertools.product(lambdaList,gammaList,maxdepthList,pos_weight)\n",
    "print('total combs:{}'.format(5*3*3*3))\n",
    "params_dict=[]\n",
    "for comb in tqdm(iters) :\n",
    "    #print('===========training {}th comb=========='.format(k))\n",
    "    params = {\"objective\": \"binary:logistic\", \"eval_metric\":'auc'}\n",
    "    for i in range(len(names)):\n",
    "        params[names[i]]=comb[i]\n",
    "    params_dict.append(params)\n",
    "exp=experiment_protocal(params_dict=params_dict,model='RF')\n",
    "re=exp.run(baseFraudData,baseFraudLabel,10)"
   ]
  },
  {
   "cell_type": "code",
   "execution_count": 53,
   "metadata": {},
   "outputs": [
    {
     "name": "stderr",
     "output_type": "stream",
     "text": [
      "  0%|          | 0/54 [00:00<?, ?it/s]"
     ]
    },
    {
     "name": "stdout",
     "output_type": "stream",
     "text": [
      "total len of params comb:54\n",
      "train test split 0\n"
     ]
    },
    {
     "name": "stderr",
     "output_type": "stream",
     "text": [
      "100%|██████████| 54/54 [08:12<00:00,  9.13s/it]\n"
     ]
    },
    {
     "name": "stdout",
     "output_type": "stream",
     "text": [
      "best params:{'n_estimators': 700, 'max_depth': 10, 'min_sample_leaf': 5},bets auc on val set:0.705773275198019\n"
     ]
    },
    {
     "name": "stderr",
     "output_type": "stream",
     "text": [
      "  0%|          | 0/54 [00:00<?, ?it/s]"
     ]
    },
    {
     "name": "stdout",
     "output_type": "stream",
     "text": [
      "test auc:0.7024284160927872\n",
      "train test split 1\n"
     ]
    },
    {
     "name": "stderr",
     "output_type": "stream",
     "text": [
      "100%|██████████| 54/54 [08:13<00:00,  9.13s/it]\n"
     ]
    },
    {
     "name": "stdout",
     "output_type": "stream",
     "text": [
      "best params:{'n_estimators': 500, 'max_depth': 10, 'min_sample_leaf': 5},bets auc on val set:0.7101694349737535\n"
     ]
    },
    {
     "name": "stderr",
     "output_type": "stream",
     "text": [
      "  0%|          | 0/54 [00:00<?, ?it/s]"
     ]
    },
    {
     "name": "stdout",
     "output_type": "stream",
     "text": [
      "test auc:0.6954022988505747\n",
      "train test split 2\n"
     ]
    },
    {
     "name": "stderr",
     "output_type": "stream",
     "text": [
      "100%|██████████| 54/54 [08:18<00:00,  9.23s/it]\n"
     ]
    },
    {
     "name": "stdout",
     "output_type": "stream",
     "text": [
      "best params:{'n_estimators': 300, 'max_depth': 10, 'min_sample_leaf': 5},bets auc on val set:0.7008388498425326\n"
     ]
    },
    {
     "name": "stderr",
     "output_type": "stream",
     "text": [
      "  0%|          | 0/54 [00:00<?, ?it/s]"
     ]
    },
    {
     "name": "stdout",
     "output_type": "stream",
     "text": [
      "test auc:0.7132216014897579\n",
      "train test split 3\n"
     ]
    },
    {
     "name": "stderr",
     "output_type": "stream",
     "text": [
      "100%|██████████| 54/54 [08:41<00:00,  9.66s/it]\n"
     ]
    },
    {
     "name": "stdout",
     "output_type": "stream",
     "text": [
      "best params:{'n_estimators': 300, 'max_depth': 10, 'min_sample_leaf': 3},bets auc on val set:0.7089482237757121\n"
     ]
    },
    {
     "name": "stderr",
     "output_type": "stream",
     "text": [
      "  0%|          | 0/54 [00:00<?, ?it/s]"
     ]
    },
    {
     "name": "stdout",
     "output_type": "stream",
     "text": [
      "test auc:0.6752170481452249\n",
      "train test split 4\n"
     ]
    },
    {
     "name": "stderr",
     "output_type": "stream",
     "text": [
      "100%|██████████| 54/54 [08:22<00:00,  9.30s/it]\n"
     ]
    },
    {
     "name": "stdout",
     "output_type": "stream",
     "text": [
      "best params:{'n_estimators': 700, 'max_depth': 10, 'min_sample_leaf': 3},bets auc on val set:0.7180024320982156\n"
     ]
    },
    {
     "name": "stderr",
     "output_type": "stream",
     "text": [
      "  0%|          | 0/54 [00:00<?, ?it/s]"
     ]
    },
    {
     "name": "stdout",
     "output_type": "stream",
     "text": [
      "test auc:0.7507356031946196\n",
      "train test split 5\n"
     ]
    },
    {
     "name": "stderr",
     "output_type": "stream",
     "text": [
      "100%|██████████| 54/54 [08:59<00:00, 10.00s/it]\n"
     ]
    },
    {
     "name": "stdout",
     "output_type": "stream",
     "text": [
      "best params:{'n_estimators': 300, 'max_depth': 10, 'min_sample_leaf': 3},bets auc on val set:0.7132313692754646\n"
     ]
    },
    {
     "name": "stderr",
     "output_type": "stream",
     "text": [
      "  0%|          | 0/54 [00:00<?, ?it/s]"
     ]
    },
    {
     "name": "stdout",
     "output_type": "stream",
     "text": [
      "test auc:0.7052100840336134\n",
      "train test split 6\n"
     ]
    },
    {
     "name": "stderr",
     "output_type": "stream",
     "text": [
      "100%|██████████| 54/54 [09:03<00:00, 10.06s/it]\n"
     ]
    },
    {
     "name": "stdout",
     "output_type": "stream",
     "text": [
      "best params:{'n_estimators': 1100, 'max_depth': 10, 'min_sample_leaf': 5},bets auc on val set:0.7188526832171748\n"
     ]
    },
    {
     "name": "stderr",
     "output_type": "stream",
     "text": [
      "  0%|          | 0/54 [00:00<?, ?it/s]"
     ]
    },
    {
     "name": "stdout",
     "output_type": "stream",
     "text": [
      "test auc:0.6653558052434457\n",
      "train test split 7\n"
     ]
    },
    {
     "name": "stderr",
     "output_type": "stream",
     "text": [
      "100%|██████████| 54/54 [09:01<00:00, 10.03s/it]\n"
     ]
    },
    {
     "name": "stdout",
     "output_type": "stream",
     "text": [
      "best params:{'n_estimators': 1100, 'max_depth': 10, 'min_sample_leaf': 5},bets auc on val set:0.7066345329287896\n"
     ]
    },
    {
     "name": "stderr",
     "output_type": "stream",
     "text": [
      "  0%|          | 0/54 [00:00<?, ?it/s]"
     ]
    },
    {
     "name": "stdout",
     "output_type": "stream",
     "text": [
      "test auc:0.7962301587301588\n",
      "train test split 8\n"
     ]
    },
    {
     "name": "stderr",
     "output_type": "stream",
     "text": [
      "100%|██████████| 54/54 [09:00<00:00, 10.00s/it]\n"
     ]
    },
    {
     "name": "stdout",
     "output_type": "stream",
     "text": [
      "best params:{'n_estimators': 700, 'max_depth': 10, 'min_sample_leaf': 5},bets auc on val set:0.6970886206691237\n"
     ]
    },
    {
     "name": "stderr",
     "output_type": "stream",
     "text": [
      "  0%|          | 0/54 [00:00<?, ?it/s]"
     ]
    },
    {
     "name": "stdout",
     "output_type": "stream",
     "text": [
      "test auc:0.7275280898876405\n",
      "train test split 9\n"
     ]
    },
    {
     "name": "stderr",
     "output_type": "stream",
     "text": [
      "100%|██████████| 54/54 [08:41<00:00,  9.65s/it]\n"
     ]
    },
    {
     "name": "stdout",
     "output_type": "stream",
     "text": [
      "best params:{'n_estimators': 900, 'max_depth': 10, 'min_sample_leaf': 5},bets auc on val set:0.691617035216934\n",
      "test auc:0.7478328173374613\n"
     ]
    }
   ],
   "source": [
    "###baseline\n",
    "baseFraudData=cwwb.iloc[:,1:15].values\n",
    "baseFraudLabel=cwwb.loc[:,'label'].values\n",
    "params_dict=[]\n",
    "ne=list(range(100,1200,200))\n",
    "max_depth=[3,5,10]\n",
    "min_leaf=[1,3,5]\n",
    "iters=itertools.product(ne,max_depth,min_leaf)\n",
    "for comb in iters:\n",
    "    params_dict.append({'n_estimators':comb[0],'max_depth':comb[1],'min_sample_leaf':comb[2]})\n",
    "print('total len of params comb:{}'.format(len(params_dict)))\n",
    "exp=experiment_protocal(params_dict=params_dict,model='RF')\n",
    "re=exp.run(baseFraudData,baseFraudLabel,10)\n",
    "\n",
    "    #print('train auc:{}, val auc:{}'.format(trainauc,valauc))\n",
    "# _,_,testauc=myrandomforest(baseFraudData,baseFraudLabel,[(np.argmax(re)+1)*100,10,5],test=True)\n",
    "# print('best val auc:{},test auc:{}'.format(max(re),testauc))\n"
   ]
  },
  {
   "cell_type": "code",
   "execution_count": 29,
   "metadata": {},
   "outputs": [
    {
     "name": "stdout",
     "output_type": "stream",
     "text": [
      "[0]\ttrain-auc:0.65799\teval-auc:0.41406\n",
      "[10]\ttrain-auc:0.82352\teval-auc:0.56804\n",
      "[20]\ttrain-auc:0.86945\teval-auc:0.55914\n",
      "[30]\ttrain-auc:0.90141\teval-auc:0.58072\n",
      "[40]\ttrain-auc:0.93074\teval-auc:0.59648\n",
      "[50]\ttrain-auc:0.94572\teval-auc:0.60733\n",
      "[60]\ttrain-auc:0.95945\teval-auc:0.60978\n",
      "[70]\ttrain-auc:0.97408\teval-auc:0.61224\n",
      "[80]\ttrain-auc:0.98200\teval-auc:0.62902\n",
      "[90]\ttrain-auc:0.98645\teval-auc:0.63004\n",
      "[100]\ttrain-auc:0.98959\teval-auc:0.62083\n",
      "[110]\ttrain-auc:0.99192\teval-auc:0.63495\n",
      "[120]\ttrain-auc:0.99341\teval-auc:0.64088\n",
      "[130]\ttrain-auc:0.99479\teval-auc:0.63475\n",
      "[140]\ttrain-auc:0.99550\teval-auc:0.64150\n",
      "[150]\ttrain-auc:0.99669\teval-auc:0.64293\n",
      "[160]\ttrain-auc:0.99747\teval-auc:0.64354\n",
      "[170]\ttrain-auc:0.99803\teval-auc:0.64129\n",
      "[180]\ttrain-auc:0.99855\teval-auc:0.65111\n",
      "[190]\ttrain-auc:0.99869\teval-auc:0.66012\n",
      "[200]\ttrain-auc:0.99904\teval-auc:0.65664\n",
      "[210]\ttrain-auc:0.99915\teval-auc:0.65787\n",
      "[220]\ttrain-auc:0.99935\teval-auc:0.65889\n",
      "[230]\ttrain-auc:0.99944\teval-auc:0.65991\n",
      "[240]\ttrain-auc:0.99946\teval-auc:0.66769\n",
      "[250]\ttrain-auc:0.99957\teval-auc:0.67444\n",
      "[260]\ttrain-auc:0.99971\teval-auc:0.67485\n",
      "[270]\ttrain-auc:0.99974\teval-auc:0.67096\n",
      "[280]\ttrain-auc:0.99982\teval-auc:0.67260\n",
      "[290]\ttrain-auc:0.99988\teval-auc:0.67342\n",
      "[300]\ttrain-auc:0.99987\teval-auc:0.67342\n",
      "[310]\ttrain-auc:0.99994\teval-auc:0.67199\n",
      "[320]\ttrain-auc:0.99998\teval-auc:0.66667\n",
      "[330]\ttrain-auc:0.99998\teval-auc:0.66789\n",
      "[340]\ttrain-auc:0.99998\teval-auc:0.67137\n",
      "[350]\ttrain-auc:0.99999\teval-auc:0.66994\n",
      "[355]\ttrain-auc:0.99999\teval-auc:0.66810\n",
      "epoch:256,best eval auc:0.679149, test auc:0.7097234976022855\n"
     ]
    }
   ],
   "source": [
    "names=['lambda','alpha','eta','max_depth']\n",
    "comb=[0.01,1,0.1,3]\n",
    "#print('===========training {}th comb=========='.format(k))\n",
    "params = {\"objective\": \"binary:logistic\", \"eval_metric\":'auc',\"subsample\":0.9,'booster':'dart','sample_type':'weighted','scale_pos_weight':1.6}\n",
    "for i in range(len(names)):\n",
    "    params[names[i]]=comb[i]\n",
    "auc,testauc,best_e=myxgboost(FraudData,FraudLabel,params)\n",
    "print('epoch:{},best eval auc:{}, test auc:{}'.format(best_e,auc,testauc))\n",
    "\n"
   ]
  },
  {
   "cell_type": "code",
   "execution_count": 8,
   "metadata": {},
   "outputs": [],
   "source": [
    "from sklearn.model_selection import train_test_split\n",
    "from imblearn.over_sampling import SMOTE, ADASYN\n",
    "from imblearn.under_sampling import ClusterCentroids\n",
    "from sklearn.neural_network import MLPClassifier"
   ]
  },
  {
   "cell_type": "code",
   "execution_count": 9,
   "metadata": {},
   "outputs": [
    {
     "name": "stdout",
     "output_type": "stream",
     "text": [
      "============2000============\n",
      "company relation train, mrr:0.21713594633613506,hit@10:0.6679777880610829,hit@1:0.01395958661113682 \n",
      "company relation test, mrr:0.10567952794797336,hit@10:0.3875,hit@1:0.0075 \n",
      "============2200============\n",
      "company relation train, mrr:0.2163939386015731,hit@10:0.6638901743020207,hit@1:0.01233996606509332 \n",
      "company relation test, mrr:0.10121600329665072,hit@10:0.3975,hit@1:0.0025 \n",
      "============2400============\n",
      "company relation train, mrr:0.21658071207708415,hit@10:0.6612679315131883,hit@1:0.012956964368347987 \n",
      "company relation test, mrr:0.10287524438328922,hit@10:0.3925,hit@1:0.0025 \n",
      "============2600============\n",
      "company relation train, mrr:0.2161957215346321,hit@10:0.6615764306648156,hit@1:0.011954342125559155 \n",
      "company relation test, mrr:0.1043943712188252,hit@10:0.3725,hit@1:0.01 \n",
      "============2800============\n",
      "company relation train, mrr:0.21728819202788585,hit@10:0.6585685639364491,hit@1:0.01326546351997532 \n",
      "company relation test, mrr:0.09872788590322674,hit@10:0.3775,hit@1:0.0025 \n",
      "============3000============\n",
      "company relation train, mrr:0.21860445670281722,hit@10:0.6655097948480642,hit@1:0.013573962671602654 \n",
      "company relation test, mrr:0.10090612208232994,hit@10:0.3875,hit@1:0.0 \n",
      "============3200============\n",
      "company relation train, mrr:0.21841282670647075,hit@10:0.6634274255745797,hit@1:0.014499460126484651 \n",
      "company relation test, mrr:0.10315771257081717,hit@10:0.3775,hit@1:0.0025 \n",
      "============3400============\n",
      "company relation train, mrr:0.21915020987901965,hit@10:0.6641215486657411,hit@1:0.014807959278111986 \n",
      "company relation test, mrr:0.10789156733607048,hit@10:0.395,hit@1:0.005 \n",
      "============3600============\n",
      "company relation train, mrr:0.21958798506175975,hit@10:0.6611136819373746,hit@1:0.01658182939996915 \n",
      "company relation test, mrr:0.10162318425179116,hit@10:0.375,hit@1:0.0025 \n",
      "============3800============\n",
      "company relation train, mrr:0.21832045605030173,hit@10:0.6590313126638901,hit@1:0.013882461823229986 \n",
      "company relation test, mrr:0.09731356380452313,hit@10:0.355,hit@1:0.0 \n",
      "============4000============\n",
      "company relation train, mrr:0.21885825673709255,hit@10:0.6614993058769089,hit@1:0.016041955884621317 \n",
      "company relation test, mrr:0.10092201550476947,hit@10:0.3775,hit@1:0.0 \n",
      "============4200============\n",
      "company relation train, mrr:0.21806177538870977,hit@10:0.6573345673299399,hit@1:0.016504704612062316 \n",
      "company relation test, mrr:0.10296948082669725,hit@10:0.3775,hit@1:0.0025 \n",
      "============4400============\n",
      "company relation train, mrr:0.21635429316054464,hit@10:0.6568718186024989,hit@1:0.01395958661113682 \n",
      "company relation test, mrr:0.09883364987843184,hit@10:0.36,hit@1:0.0025 \n",
      "============4600============\n",
      "company relation train, mrr:0.21883389244656076,hit@10:0.659108437451797,hit@1:0.01635045503624865 \n",
      "company relation test, mrr:0.10308729440583324,hit@10:0.3725,hit@1:0.005 \n",
      "============4800============\n",
      "company relation train, mrr:0.21862620916650663,hit@10:0.659571186179238,hit@1:0.016967453339503315 \n",
      "company relation test, mrr:0.10725780109912125,hit@10:0.3775,hit@1:0.005 \n",
      "============5000============\n",
      "company relation train, mrr:0.2192007916710442,hit@10:0.6579515656331945,hit@1:0.016890328551596483 \n",
      "company relation test, mrr:0.10440884363973067,hit@10:0.375,hit@1:0.0 \n",
      "3400\n"
     ]
    },
    {
     "ename": "NameError",
     "evalue": "name 'get_embedding' is not defined",
     "output_type": "error",
     "traceback": [
      "\u001b[1;31m---------------------------------------------------------------------------\u001b[0m",
      "\u001b[1;31mNameError\u001b[0m                                 Traceback (most recent call last)",
      "\u001b[1;32m~\\AppData\\Local\\Temp/ipykernel_28988/3170463202.py\u001b[0m in \u001b[0;36m<module>\u001b[1;34m\u001b[0m\n\u001b[0;32m     32\u001b[0m \u001b[1;33m\u001b[0m\u001b[0m\n\u001b[0;32m     33\u001b[0m \u001b[0mprint\u001b[0m\u001b[1;33m(\u001b[0m\u001b[0mbest_e\u001b[0m\u001b[1;33m)\u001b[0m\u001b[1;33m\u001b[0m\u001b[1;33m\u001b[0m\u001b[0m\n\u001b[1;32m---> 34\u001b[1;33m \u001b[0mFraudData\u001b[0m\u001b[1;33m,\u001b[0m\u001b[0mFraudLabel\u001b[0m\u001b[1;33m=\u001b[0m\u001b[0mget_embedding\u001b[0m\u001b[1;33m(\u001b[0m\u001b[0mmodel\u001b[0m\u001b[1;33m,\u001b[0m\u001b[0mcwwb\u001b[0m\u001b[1;33m,\u001b[0m\u001b[0mwith_row_feature\u001b[0m\u001b[1;33m=\u001b[0m\u001b[1;32mFalse\u001b[0m\u001b[1;33m)\u001b[0m\u001b[1;33m\u001b[0m\u001b[1;33m\u001b[0m\u001b[0m\n\u001b[0m\u001b[0;32m     35\u001b[0m \u001b[1;32mfrom\u001b[0m \u001b[0mimblearn\u001b[0m\u001b[1;33m.\u001b[0m\u001b[0mover_sampling\u001b[0m \u001b[1;32mimport\u001b[0m \u001b[0mRandomOverSampler\u001b[0m\u001b[1;33m\u001b[0m\u001b[1;33m\u001b[0m\u001b[0m\n\u001b[0;32m     36\u001b[0m \u001b[1;32mdef\u001b[0m \u001b[0mmyNN\u001b[0m\u001b[1;33m(\u001b[0m\u001b[0mfeature\u001b[0m\u001b[1;33m,\u001b[0m\u001b[0mlabel\u001b[0m\u001b[1;33m,\u001b[0m\u001b[0mparams\u001b[0m\u001b[1;33m)\u001b[0m\u001b[1;33m:\u001b[0m\u001b[1;33m\u001b[0m\u001b[1;33m\u001b[0m\u001b[0m\n",
      "\u001b[1;31mNameError\u001b[0m: name 'get_embedding' is not defined"
     ]
    }
   ],
   "source": [
    "from ampligraph.latent_features import TransE,DistMult,ComplEx\n",
    "from ampligraph.evaluation import evaluate_performance,mr_score,mrr_score,hits_at_n_score,train_test_split_no_unseen,select_best_model_ranking\n",
    "import numpy as np\n",
    "import random\n",
    "from myKGE import myDismult,myComplex\n",
    "evalResult=pd.DataFrame(columns=['mr','mrr','hit@10','number-mr','number-mrr','number-hit@10'])#,'trainRecall','trainPrecison','trianF1','testRecall','testPrecison','testF1'])\n",
    "X_train=train\n",
    "best_mrr=0\n",
    "best_e=0\n",
    "for e in range(2000,5100,200):\n",
    "    print('============{}============'.format(e))\n",
    "    model = myComplex(seed=555, epochs=e, k=30, loss='pairwise',loss_params={'margin':5})\n",
    "    model.fit(X_train,numberic_entity=True)\n",
    "    # falseSet=eval_set[eval_set[:,-1]=='False',:]\n",
    "    # trueSet=eval_set[eval_set[:,-1]=='True',:]\n",
    "\n",
    "    rank=evaluate_performance(train1,model,entities_subset=entity_subset)\n",
    "    print('company relation train, mrr:{},hit@10:{},hit@1:{} '.format(mrr_score(rank),hits_at_n_score(rank,10),hits_at_n_score(rank,1)))\n",
    "    # tmpevalset=np.array(random.sample(list(list(fraudPropertyTriple.keys())),round(0.25*len(eval_set2))))\n",
    "    # rank2=evaluate_performance(tmpevalset,model,entities_subset=entity_subset2)\n",
    "    # print(mr_score(ranks=rank),mrr_score(rank),hits_at_n_score(rank,10),mr_score(ranks=rank2),mrr_score(rank2),hits_at_n_score(rank2,10))\n",
    "    rank=evaluate_performance(test1,model,entities_subset=entity_subset)\n",
    "    print('company relation test, mrr:{},hit@10:{},hit@1:{} '.format(mrr_score(rank),hits_at_n_score(rank,10),hits_at_n_score(rank,1)))\n",
    "    if mrr_score(rank)>best_mrr:\n",
    "        best_mrr=mrr_score(rank)\n",
    "        best_e=e\n",
    "    # recall1,precision1,f11=my_eval(np.array(fraudTrain),model)\n",
    "    # recall2,precision2,f12=my_eval(np.array(fraudTest),model)\n",
    "   # evalResult.loc[e,:]=[mr_score(ranks=rank),mrr_score(rank),hits_at_n_score(rank,5),recall1,precision1,f11,recall2,precision2,f12]\n",
    "model = myComplex(seed=555, epochs=best_e, k=30, loss='pairwise',loss_params={'margin':5})\n",
    "model.fit(X_train,numberic_entity=True)\n",
    "\n",
    "print(best_e)\n"
   ]
  },
  {
   "cell_type": "markdown",
   "metadata": {},
   "source": [
    "k=30,e=1800 top10:0.38\n",
    "beste 3400"
   ]
  },
  {
   "cell_type": "markdown",
   "metadata": {},
   "source": [
    "2\n"
   ]
  },
  {
   "cell_type": "code",
   "execution_count": null,
   "metadata": {},
   "outputs": [],
   "source": []
  }
 ],
 "metadata": {
  "interpreter": {
   "hash": "94fbb9febaaa87d4d8d1ec7683af3214e85911ee914150fa5361d3c0bca9b809"
  },
  "kernelspec": {
   "display_name": "Python 3.7.7 64-bit ('ml_venv': venv)",
   "name": "python3"
  },
  "language_info": {
   "codemirror_mode": {
    "name": "ipython",
    "version": 3
   },
   "file_extension": ".py",
   "mimetype": "text/x-python",
   "name": "python",
   "nbconvert_exporter": "python",
   "pygments_lexer": "ipython3",
   "version": "3.7.4"
  },
  "orig_nbformat": 4
 },
 "nbformat": 4,
 "nbformat_minor": 2
}
